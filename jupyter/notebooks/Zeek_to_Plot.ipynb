{
 "cells": [
  {
   "cell_type": "markdown",
   "metadata": {},
   "source": [
    "<div style=\"float: right; margin: 20px 20px 20px 20px\"><img src=\"images/bro.png\" width=\"100px\"></div>\n",
    "\n",
    "# Zeek Network Data to Plotting\n",
    "Yes, this is provincial, but going from a Zeek log to a visual data plot in a few lines of code might be really handy sometimes. So without further ado here's a very small bit of code :)\n",
    "\n",
    "<div style=\"float: right; margin: 30px -100px 0px 0px\"><img src=\"images/matplotlib.png\" width=\"300px\"></div>\n",
    "\n",
    "### Software\n",
    "- Zeek Analysis Tools (ZAT): https://github.com/SuperCowPowers/zat\n",
    "- Pandas: https://github.com/pandas-dev/pandas\n",
    "- Matplotlib: https://matplotlib.org"
   ]
  },
  {
   "cell_type": "markdown",
   "metadata": {},
   "source": [
    "## Quickly go from Zeek log to Pandas DataFrame"
   ]
  },
  {
   "cell_type": "code",
   "execution_count": 1,
   "metadata": {},
   "outputs": [
    {
     "data": {
      "text/html": [
       "<div>\n",
       "<style scoped>\n",
       "    .dataframe tbody tr th:only-of-type {\n",
       "        vertical-align: middle;\n",
       "    }\n",
       "\n",
       "    .dataframe tbody tr th {\n",
       "        vertical-align: top;\n",
       "    }\n",
       "\n",
       "    .dataframe thead th {\n",
       "        text-align: right;\n",
       "    }\n",
       "</style>\n",
       "<table border=\"1\" class=\"dataframe\">\n",
       "  <thead>\n",
       "    <tr style=\"text-align: right;\">\n",
       "      <th></th>\n",
       "      <th>uid</th>\n",
       "      <th>id.orig_h</th>\n",
       "      <th>id.orig_p</th>\n",
       "      <th>id.resp_h</th>\n",
       "      <th>id.resp_p</th>\n",
       "      <th>trans_depth</th>\n",
       "      <th>method</th>\n",
       "      <th>host</th>\n",
       "      <th>uri</th>\n",
       "      <th>referrer</th>\n",
       "      <th>...</th>\n",
       "      <th>info_msg</th>\n",
       "      <th>filename</th>\n",
       "      <th>tags</th>\n",
       "      <th>username</th>\n",
       "      <th>password</th>\n",
       "      <th>proxied</th>\n",
       "      <th>orig_fuids</th>\n",
       "      <th>orig_mime_types</th>\n",
       "      <th>resp_fuids</th>\n",
       "      <th>resp_mime_types</th>\n",
       "    </tr>\n",
       "    <tr>\n",
       "      <th>ts</th>\n",
       "      <th></th>\n",
       "      <th></th>\n",
       "      <th></th>\n",
       "      <th></th>\n",
       "      <th></th>\n",
       "      <th></th>\n",
       "      <th></th>\n",
       "      <th></th>\n",
       "      <th></th>\n",
       "      <th></th>\n",
       "      <th></th>\n",
       "      <th></th>\n",
       "      <th></th>\n",
       "      <th></th>\n",
       "      <th></th>\n",
       "      <th></th>\n",
       "      <th></th>\n",
       "      <th></th>\n",
       "      <th></th>\n",
       "      <th></th>\n",
       "      <th></th>\n",
       "    </tr>\n",
       "  </thead>\n",
       "  <tbody>\n",
       "    <tr>\n",
       "      <th>2013-09-15 23:44:27.668081999</th>\n",
       "      <td>CyIaMO7IheOh38Zsi</td>\n",
       "      <td>192.168.33.10</td>\n",
       "      <td>1031</td>\n",
       "      <td>54.245.228.191</td>\n",
       "      <td>80</td>\n",
       "      <td>1</td>\n",
       "      <td>GET</td>\n",
       "      <td>guyspy.com</td>\n",
       "      <td>/</td>\n",
       "      <td>NaN</td>\n",
       "      <td>...</td>\n",
       "      <td>NaN</td>\n",
       "      <td>NaN</td>\n",
       "      <td>(empty)</td>\n",
       "      <td>NaN</td>\n",
       "      <td>NaN</td>\n",
       "      <td>NaN</td>\n",
       "      <td>NaN</td>\n",
       "      <td>NaN</td>\n",
       "      <td>Fnjq3r4R0VGmHVWiN5</td>\n",
       "      <td>text/html</td>\n",
       "    </tr>\n",
       "    <tr>\n",
       "      <th>2013-09-15 23:44:27.731701851</th>\n",
       "      <td>CoyZrY2g74UvMMgp4a</td>\n",
       "      <td>192.168.33.10</td>\n",
       "      <td>1032</td>\n",
       "      <td>54.245.228.191</td>\n",
       "      <td>80</td>\n",
       "      <td>1</td>\n",
       "      <td>GET</td>\n",
       "      <td>www.guyspy.com</td>\n",
       "      <td>/</td>\n",
       "      <td>NaN</td>\n",
       "      <td>...</td>\n",
       "      <td>NaN</td>\n",
       "      <td>NaN</td>\n",
       "      <td>(empty)</td>\n",
       "      <td>NaN</td>\n",
       "      <td>NaN</td>\n",
       "      <td>NaN</td>\n",
       "      <td>NaN</td>\n",
       "      <td>NaN</td>\n",
       "      <td>FCQ5aX37YzsjAKpcv8</td>\n",
       "      <td>text/html</td>\n",
       "    </tr>\n",
       "    <tr>\n",
       "      <th>2013-09-15 23:44:28.092921972</th>\n",
       "      <td>CoyZrY2g74UvMMgp4a</td>\n",
       "      <td>192.168.33.10</td>\n",
       "      <td>1032</td>\n",
       "      <td>54.245.228.191</td>\n",
       "      <td>80</td>\n",
       "      <td>2</td>\n",
       "      <td>GET</td>\n",
       "      <td>www.guyspy.com</td>\n",
       "      <td>/wp-content/plugins/slider-pro/css/advanced-sl...</td>\n",
       "      <td>http://www.guyspy.com/</td>\n",
       "      <td>...</td>\n",
       "      <td>NaN</td>\n",
       "      <td>NaN</td>\n",
       "      <td>(empty)</td>\n",
       "      <td>NaN</td>\n",
       "      <td>NaN</td>\n",
       "      <td>NaN</td>\n",
       "      <td>NaN</td>\n",
       "      <td>NaN</td>\n",
       "      <td>FD9Xu815Hwui3sniSf</td>\n",
       "      <td>text/html</td>\n",
       "    </tr>\n",
       "    <tr>\n",
       "      <th>2013-09-15 23:44:28.150300980</th>\n",
       "      <td>CiCKTz4e0fkYYazBS3</td>\n",
       "      <td>192.168.33.10</td>\n",
       "      <td>1040</td>\n",
       "      <td>54.245.228.191</td>\n",
       "      <td>80</td>\n",
       "      <td>1</td>\n",
       "      <td>GET</td>\n",
       "      <td>www.guyspy.com</td>\n",
       "      <td>/wp-content/plugins/contact-form-7/includes/cs...</td>\n",
       "      <td>http://www.guyspy.com/</td>\n",
       "      <td>...</td>\n",
       "      <td>NaN</td>\n",
       "      <td>NaN</td>\n",
       "      <td>(empty)</td>\n",
       "      <td>NaN</td>\n",
       "      <td>NaN</td>\n",
       "      <td>NaN</td>\n",
       "      <td>NaN</td>\n",
       "      <td>NaN</td>\n",
       "      <td>FMZXWm1yCdsCAU3K9d</td>\n",
       "      <td>text/plain</td>\n",
       "    </tr>\n",
       "    <tr>\n",
       "      <th>2013-09-15 23:44:28.150601864</th>\n",
       "      <td>C1YBkC1uuO9bzndRvh</td>\n",
       "      <td>192.168.33.10</td>\n",
       "      <td>1041</td>\n",
       "      <td>54.245.228.191</td>\n",
       "      <td>80</td>\n",
       "      <td>1</td>\n",
       "      <td>GET</td>\n",
       "      <td>www.guyspy.com</td>\n",
       "      <td>/wp-content/plugins/slider-pro/css/slider/adva...</td>\n",
       "      <td>http://www.guyspy.com/</td>\n",
       "      <td>...</td>\n",
       "      <td>NaN</td>\n",
       "      <td>NaN</td>\n",
       "      <td>(empty)</td>\n",
       "      <td>NaN</td>\n",
       "      <td>NaN</td>\n",
       "      <td>NaN</td>\n",
       "      <td>NaN</td>\n",
       "      <td>NaN</td>\n",
       "      <td>FA4NM039Rf9Y8Sn2Rh</td>\n",
       "      <td>text/plain</td>\n",
       "    </tr>\n",
       "  </tbody>\n",
       "</table>\n",
       "<p>5 rows × 26 columns</p>\n",
       "</div>"
      ],
      "text/plain": [
       "                                              uid      id.orig_h  id.orig_p  \\\n",
       "ts                                                                            \n",
       "2013-09-15 23:44:27.668081999   CyIaMO7IheOh38Zsi  192.168.33.10       1031   \n",
       "2013-09-15 23:44:27.731701851  CoyZrY2g74UvMMgp4a  192.168.33.10       1032   \n",
       "2013-09-15 23:44:28.092921972  CoyZrY2g74UvMMgp4a  192.168.33.10       1032   \n",
       "2013-09-15 23:44:28.150300980  CiCKTz4e0fkYYazBS3  192.168.33.10       1040   \n",
       "2013-09-15 23:44:28.150601864  C1YBkC1uuO9bzndRvh  192.168.33.10       1041   \n",
       "\n",
       "                                    id.resp_h  id.resp_p  trans_depth method  \\\n",
       "ts                                                                             \n",
       "2013-09-15 23:44:27.668081999  54.245.228.191         80            1    GET   \n",
       "2013-09-15 23:44:27.731701851  54.245.228.191         80            1    GET   \n",
       "2013-09-15 23:44:28.092921972  54.245.228.191         80            2    GET   \n",
       "2013-09-15 23:44:28.150300980  54.245.228.191         80            1    GET   \n",
       "2013-09-15 23:44:28.150601864  54.245.228.191         80            1    GET   \n",
       "\n",
       "                                         host  \\\n",
       "ts                                              \n",
       "2013-09-15 23:44:27.668081999      guyspy.com   \n",
       "2013-09-15 23:44:27.731701851  www.guyspy.com   \n",
       "2013-09-15 23:44:28.092921972  www.guyspy.com   \n",
       "2013-09-15 23:44:28.150300980  www.guyspy.com   \n",
       "2013-09-15 23:44:28.150601864  www.guyspy.com   \n",
       "\n",
       "                                                                             uri  \\\n",
       "ts                                                                                 \n",
       "2013-09-15 23:44:27.668081999                                                  /   \n",
       "2013-09-15 23:44:27.731701851                                                  /   \n",
       "2013-09-15 23:44:28.092921972  /wp-content/plugins/slider-pro/css/advanced-sl...   \n",
       "2013-09-15 23:44:28.150300980  /wp-content/plugins/contact-form-7/includes/cs...   \n",
       "2013-09-15 23:44:28.150601864  /wp-content/plugins/slider-pro/css/slider/adva...   \n",
       "\n",
       "                                             referrer  ... info_msg  filename  \\\n",
       "ts                                                     ...                      \n",
       "2013-09-15 23:44:27.668081999                     NaN  ...      NaN       NaN   \n",
       "2013-09-15 23:44:27.731701851                     NaN  ...      NaN       NaN   \n",
       "2013-09-15 23:44:28.092921972  http://www.guyspy.com/  ...      NaN       NaN   \n",
       "2013-09-15 23:44:28.150300980  http://www.guyspy.com/  ...      NaN       NaN   \n",
       "2013-09-15 23:44:28.150601864  http://www.guyspy.com/  ...      NaN       NaN   \n",
       "\n",
       "                                  tags  username password  proxied orig_fuids  \\\n",
       "ts                                                                              \n",
       "2013-09-15 23:44:27.668081999  (empty)       NaN      NaN      NaN        NaN   \n",
       "2013-09-15 23:44:27.731701851  (empty)       NaN      NaN      NaN        NaN   \n",
       "2013-09-15 23:44:28.092921972  (empty)       NaN      NaN      NaN        NaN   \n",
       "2013-09-15 23:44:28.150300980  (empty)       NaN      NaN      NaN        NaN   \n",
       "2013-09-15 23:44:28.150601864  (empty)       NaN      NaN      NaN        NaN   \n",
       "\n",
       "                              orig_mime_types          resp_fuids  \\\n",
       "ts                                                                  \n",
       "2013-09-15 23:44:27.668081999             NaN  Fnjq3r4R0VGmHVWiN5   \n",
       "2013-09-15 23:44:27.731701851             NaN  FCQ5aX37YzsjAKpcv8   \n",
       "2013-09-15 23:44:28.092921972             NaN  FD9Xu815Hwui3sniSf   \n",
       "2013-09-15 23:44:28.150300980             NaN  FMZXWm1yCdsCAU3K9d   \n",
       "2013-09-15 23:44:28.150601864             NaN  FA4NM039Rf9Y8Sn2Rh   \n",
       "\n",
       "                              resp_mime_types  \n",
       "ts                                             \n",
       "2013-09-15 23:44:27.668081999       text/html  \n",
       "2013-09-15 23:44:27.731701851       text/html  \n",
       "2013-09-15 23:44:28.092921972       text/html  \n",
       "2013-09-15 23:44:28.150300980      text/plain  \n",
       "2013-09-15 23:44:28.150601864      text/plain  \n",
       "\n",
       "[5 rows x 26 columns]"
      ]
     },
     "execution_count": 1,
     "metadata": {},
     "output_type": "execute_result"
    }
   ],
   "source": [
    "from zat.log_to_dataframe import LogToDataFrame\n",
    "from zat.utils import plot_utils\n",
    "\n",
    "# Just some plotting defaults\n",
    "%matplotlib inline\n",
    "import matplotlib.pyplot as plt\n",
    "plot_utils.plot_defaults()\n",
    "\n",
    "# Convert it to a Pandas DataFrame\n",
    "log_to_df = LogToDataFrame()\n",
    "http_df = log_to_df.create_dataframe('http.log')\n",
    "http_df.head()"
   ]
  },
  {
   "cell_type": "markdown",
   "metadata": {},
   "source": [
    "<div style=\"float: left; margin: 20px 20px 20px 20px\"><img src=\"images/eyeball.jpeg\" width=\"100px\"></div>\n",
    "\n",
    "## Lets look at our data\n",
    "Above we used a ZAT utility method to set up nice plotting defaults and here we simply use the plotting provided by Pandas."
   ]
  },
  {
   "cell_type": "code",
   "execution_count": 2,
   "metadata": {},
   "outputs": [
    {
     "data": {
      "text/plain": [
       "array([[<matplotlib.axes._subplots.AxesSubplot object at 0x7f93a16d9210>,\n",
       "        <matplotlib.axes._subplots.AxesSubplot object at 0x7f9387ba75d0>]],\n",
       "      dtype=object)"
      ]
     },
     "execution_count": 2,
     "metadata": {},
     "output_type": "execute_result"
    },
    {
     "data": {
      "image/png": "[encoded data removed]",
      "text/plain": [
       "<Figure size 1152x432 with 2 Axes>"
      ]
     },
     "metadata": {
      "needs_background": "light"
     },
     "output_type": "display_data"
    }
   ],
   "source": [
    "http_df[['request_body_len','response_body_len']].hist()"
   ]
  },
  {
   "cell_type": "markdown",
   "metadata": {},
   "source": [
    "<div style=\"float: left; margin: 20px 20px 20px 20px\"><img src=\"images/eyeball.jpeg\" width=\"100px\"></div>\n",
    "\n",
    "## Lets look at our data again\n",
    "Since ZAT automatically makes the timestamp the index, we can plot volume over time super easy."
   ]
  },
  {
   "cell_type": "code",
   "execution_count": 3,
   "metadata": {},
   "outputs": [
    {
     "data": {
      "text/plain": [
       "Text(0.5, 0, 'HTTP Requests per Second')"
      ]
     },
     "execution_count": 3,
     "metadata": {},
     "output_type": "execute_result"
    },
    {
     "data": {
      "image/png": "[encoded data removed]",
      "text/plain": [
       "<Figure size 1152x432 with 1 Axes>"
      ]
     },
     "metadata": {
      "needs_background": "light"
     },
     "output_type": "display_data"
    }
   ],
   "source": [
    "http_df['uid'].resample('1S').count().plot()\n",
    "plt.xlabel('HTTP Requests per Second')"
   ]
  },
  {
   "cell_type": "markdown",
   "metadata": {},
   "source": [
    "## Wrap Up\n",
    "Well that's it for this notebook, it was kinda simple but sometime you just want to know how to plot the darn thing. :)\n",
    "\n",
    "If you liked this notebook please visit the [ZAT](https://github.com/SuperCowPowers/zat) project for more notebooks and examples."
   ]
  }
 ],
 "metadata": {
  "kernelspec": {
   "display_name": "Python 3",
   "language": "python",
   "name": "python3"
  },
  "language_info": {
   "codemirror_mode": {
    "name": "ipython",
    "version": 3
   },
   "file_extension": ".py",
   "mimetype": "text/x-python",
   "name": "python",
   "nbconvert_exporter": "python",
   "pygments_lexer": "ipython3",
   "version": "3.7.6"
  }
 },
 "nbformat": 4,
 "nbformat_minor": 4
}

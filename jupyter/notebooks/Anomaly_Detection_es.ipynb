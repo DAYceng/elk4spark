{
 "cells": [
  {
   "cell_type": "markdown",
   "metadata": {},
   "source": [
    "<div style=\"float: right; margin: 0px 0px 0px 0px\"><img src=\"images/fish.jpg\" width=\"280px\"></div>\n",
    "\n",
    "## 异常分析 (demo)\n",
    "zeek在解析本地的pacp包后会生成一系列日志，从elasticsearch中获取保存的http日志数据，使用zat将其转换成pd Dataframe形式展示。然后使用Scikit-Learn中的Isolation Forests异常检测算法训练一个树，对数据进行异常检测。最后利用聚类和PCA降维进一步分析这些数据。\n",
    "\n",
    "**Software**\n",
    "- zat: https://github.com/SuperCowPowers/zat\n",
    "- Pandas: https://github.com/pandas-dev/pandas\n",
    "- Scikit-Learn: http://scikit-learn.org/stable/index.html\n",
    "\n",
    "**Techniques**\n",
    "- One Hot Encoding: http://pandas.pydata.org/pandas-docs/stable/generated/pandas.get_dummies.html\n",
    "- Isolation Forest: http://scikit-learn.org/stable/modules/generated/sklearn.ensemble.IsolationForest.html\n",
    "- PCA: http://scikit-learn.org/stable/modules/generated/sklearn.decomposition.PCA.html\n",
    "\n",
    "**Related Notebooks**\n",
    "- Zeek to Scikit-Learn: https://github.com/SuperCowPowers/zat/blob/main/notebooks/Zeek_to_Scikit_Learn.ipynb\n"
   ]
  },
  {
   "cell_type": "code",
   "execution_count": 1,
   "metadata": {},
   "outputs": [
    {
     "name": "stdout",
     "output_type": "stream",
     "text": [
      "zat: 0.4.4\n",
      "Pandas: 1.0.4\n",
      "Numpy: 1.18.5\n",
      "Scikit Learn Version: 0.22.2.post1\n"
     ]
    }
   ],
   "source": [
    "import zat\n",
    "from zat.log_to_dataframe import LogToDataFrame\n",
    "from zat.dataframe_to_matrix import DataFrameToMatrix\n",
    "print('zat: {:s}'.format(zat.__version__))\n",
    "import pandas as pd\n",
    "print('Pandas: {:s}'.format(pd.__version__))\n",
    "import numpy as np\n",
    "print('Numpy: {:s}'.format(np.__version__))\n",
    "import sklearn\n",
    "from sklearn.ensemble import IsolationForest\n",
    "from sklearn.decomposition import PCA\n",
    "from sklearn.cluster import KMeans\n",
    "print('Scikit Learn Version:', sklearn.__version__)"
   ]
  },
  {
   "cell_type": "code",
   "execution_count": 3,
   "metadata": {},
   "outputs": [],
   "source": [
    "# 创建SparkSession会话，并连接es\n",
    "from pyspark.sql import SparkSession\n",
    "from pyspark.sql import functions as F\n",
    "from pyspark.sql.types import *\n",
    "import pandas as pd\n",
    "import os\n",
    "\n",
    "spark = SparkSession.builder \\\n",
    "    .appName(\"NetFlowReader\") \\\n",
    "    .enableHiveSupport() \\\n",
    "    .getOrCreate() \\\n",
    "\n",
    "es_reader = (spark.read\n",
    "    .format(\"org.elasticsearch.spark.sql\")\n",
    "    .option(\"inferSchema\", \"true\")\n",
    "    .option(\"es.nodes\",\"elksj-elasticsearch:9200\")\n",
    ")"
   ]
  },
  {
   "cell_type": "code",
   "execution_count": 4,
   "metadata": {},
   "outputs": [
    {
     "name": "stdout",
     "output_type": "stream",
     "text": [
      "Read in 150 Rows...\n"
     ]
    },
    {
     "data": {
      "text/html": [
       "<div>\n",
       "<style scoped>\n",
       "    .dataframe tbody tr th:only-of-type {\n",
       "        vertical-align: middle;\n",
       "    }\n",
       "\n",
       "    .dataframe tbody tr th {\n",
       "        vertical-align: top;\n",
       "    }\n",
       "\n",
       "    .dataframe thead th {\n",
       "        text-align: right;\n",
       "    }\n",
       "</style>\n",
       "<table border=\"1\" class=\"dataframe\">\n",
       "  <thead>\n",
       "    <tr style=\"text-align: right;\">\n",
       "      <th></th>\n",
       "      <th>filename</th>\n",
       "      <th>host</th>\n",
       "      <th>id_orig_h</th>\n",
       "      <th>id_orig_p</th>\n",
       "      <th>id_resp_h</th>\n",
       "      <th>id_resp_p</th>\n",
       "      <th>info_code</th>\n",
       "      <th>info_msg</th>\n",
       "      <th>method</th>\n",
       "      <th>orig_fuids</th>\n",
       "      <th>...</th>\n",
       "      <th>response_body_len</th>\n",
       "      <th>status_code</th>\n",
       "      <th>status_msg</th>\n",
       "      <th>tags</th>\n",
       "      <th>trans_depth</th>\n",
       "      <th>ts</th>\n",
       "      <th>uid</th>\n",
       "      <th>uri</th>\n",
       "      <th>user_agent</th>\n",
       "      <th>username</th>\n",
       "    </tr>\n",
       "  </thead>\n",
       "  <tbody>\n",
       "    <tr>\n",
       "      <th>0</th>\n",
       "      <td>-</td>\n",
       "      <td>guyspy.com</td>\n",
       "      <td>192.168.33.10</td>\n",
       "      <td>1031</td>\n",
       "      <td>54.245.228.191</td>\n",
       "      <td>80</td>\n",
       "      <td>0</td>\n",
       "      <td>-</td>\n",
       "      <td>GET</td>\n",
       "      <td>-</td>\n",
       "      <td>...</td>\n",
       "      <td>184</td>\n",
       "      <td>301</td>\n",
       "      <td>Moved Permanently</td>\n",
       "      <td>(empty)</td>\n",
       "      <td>1</td>\n",
       "      <td>1379288750227</td>\n",
       "      <td>CyIaMO7IheOh38Zsi</td>\n",
       "      <td>/</td>\n",
       "      <td>Mozilla/4.0 (compatible; MSIE 8.0; Windows NT ...</td>\n",
       "      <td>-</td>\n",
       "    </tr>\n",
       "    <tr>\n",
       "      <th>1</th>\n",
       "      <td>-</td>\n",
       "      <td>www.guyspy.com</td>\n",
       "      <td>192.168.33.10</td>\n",
       "      <td>1032</td>\n",
       "      <td>54.245.228.191</td>\n",
       "      <td>80</td>\n",
       "      <td>0</td>\n",
       "      <td>-</td>\n",
       "      <td>GET</td>\n",
       "      <td>-</td>\n",
       "      <td>...</td>\n",
       "      <td>100631</td>\n",
       "      <td>200</td>\n",
       "      <td>OK</td>\n",
       "      <td>(empty)</td>\n",
       "      <td>1</td>\n",
       "      <td>1379288750227</td>\n",
       "      <td>CoyZrY2g74UvMMgp4a</td>\n",
       "      <td>/</td>\n",
       "      <td>Mozilla/4.0 (compatible; MSIE 8.0; Windows NT ...</td>\n",
       "      <td>-</td>\n",
       "    </tr>\n",
       "    <tr>\n",
       "      <th>2</th>\n",
       "      <td>-</td>\n",
       "      <td>www.guyspy.com</td>\n",
       "      <td>192.168.33.10</td>\n",
       "      <td>1032</td>\n",
       "      <td>54.245.228.191</td>\n",
       "      <td>80</td>\n",
       "      <td>0</td>\n",
       "      <td>-</td>\n",
       "      <td>GET</td>\n",
       "      <td>-</td>\n",
       "      <td>...</td>\n",
       "      <td>55817</td>\n",
       "      <td>404</td>\n",
       "      <td>Not Found</td>\n",
       "      <td>(empty)</td>\n",
       "      <td>2</td>\n",
       "      <td>1379288750227</td>\n",
       "      <td>CoyZrY2g74UvMMgp4a</td>\n",
       "      <td>/wp-content/plugins/slider-pro/css/advanced-sl...</td>\n",
       "      <td>Mozilla/4.0 (compatible; MSIE 8.0; Windows NT ...</td>\n",
       "      <td>-</td>\n",
       "    </tr>\n",
       "    <tr>\n",
       "      <th>3</th>\n",
       "      <td>-</td>\n",
       "      <td>www.guyspy.com</td>\n",
       "      <td>192.168.33.10</td>\n",
       "      <td>1040</td>\n",
       "      <td>54.245.228.191</td>\n",
       "      <td>80</td>\n",
       "      <td>0</td>\n",
       "      <td>-</td>\n",
       "      <td>GET</td>\n",
       "      <td>-</td>\n",
       "      <td>...</td>\n",
       "      <td>887</td>\n",
       "      <td>200</td>\n",
       "      <td>OK</td>\n",
       "      <td>(empty)</td>\n",
       "      <td>1</td>\n",
       "      <td>1379288750227</td>\n",
       "      <td>CiCKTz4e0fkYYazBS3</td>\n",
       "      <td>/wp-content/plugins/contact-form-7/includes/cs...</td>\n",
       "      <td>Mozilla/4.0 (compatible; MSIE 8.0; Windows NT ...</td>\n",
       "      <td>-</td>\n",
       "    </tr>\n",
       "    <tr>\n",
       "      <th>4</th>\n",
       "      <td>-</td>\n",
       "      <td>www.guyspy.com</td>\n",
       "      <td>192.168.33.10</td>\n",
       "      <td>1041</td>\n",
       "      <td>54.245.228.191</td>\n",
       "      <td>80</td>\n",
       "      <td>0</td>\n",
       "      <td>-</td>\n",
       "      <td>GET</td>\n",
       "      <td>-</td>\n",
       "      <td>...</td>\n",
       "      <td>10068</td>\n",
       "      <td>200</td>\n",
       "      <td>OK</td>\n",
       "      <td>(empty)</td>\n",
       "      <td>1</td>\n",
       "      <td>1379288750227</td>\n",
       "      <td>C1YBkC1uuO9bzndRvh</td>\n",
       "      <td>/wp-content/plugins/slider-pro/css/slider/adva...</td>\n",
       "      <td>Mozilla/4.0 (compatible; MSIE 8.0; Windows NT ...</td>\n",
       "      <td>-</td>\n",
       "    </tr>\n",
       "  </tbody>\n",
       "</table>\n",
       "<p>5 rows × 27 columns</p>\n",
       "</div>"
      ],
      "text/plain": [
       "  filename            host      id_orig_h  id_orig_p       id_resp_h  \\\n",
       "0        -      guyspy.com  192.168.33.10       1031  54.245.228.191   \n",
       "1        -  www.guyspy.com  192.168.33.10       1032  54.245.228.191   \n",
       "2        -  www.guyspy.com  192.168.33.10       1032  54.245.228.191   \n",
       "3        -  www.guyspy.com  192.168.33.10       1040  54.245.228.191   \n",
       "4        -  www.guyspy.com  192.168.33.10       1041  54.245.228.191   \n",
       "\n",
       "   id_resp_p  info_code info_msg method orig_fuids  ... response_body_len  \\\n",
       "0         80          0        -    GET          -  ...               184   \n",
       "1         80          0        -    GET          -  ...            100631   \n",
       "2         80          0        -    GET          -  ...             55817   \n",
       "3         80          0        -    GET          -  ...               887   \n",
       "4         80          0        -    GET          -  ...             10068   \n",
       "\n",
       "  status_code         status_msg     tags  trans_depth             ts  \\\n",
       "0         301  Moved Permanently  (empty)            1  1379288750227   \n",
       "1         200                 OK  (empty)            1  1379288750227   \n",
       "2         404          Not Found  (empty)            2  1379288750227   \n",
       "3         200                 OK  (empty)            1  1379288750227   \n",
       "4         200                 OK  (empty)            1  1379288750227   \n",
       "\n",
       "                  uid                                                uri  \\\n",
       "0   CyIaMO7IheOh38Zsi                                                  /   \n",
       "1  CoyZrY2g74UvMMgp4a                                                  /   \n",
       "2  CoyZrY2g74UvMMgp4a  /wp-content/plugins/slider-pro/css/advanced-sl...   \n",
       "3  CiCKTz4e0fkYYazBS3  /wp-content/plugins/contact-form-7/includes/cs...   \n",
       "4  C1YBkC1uuO9bzndRvh  /wp-content/plugins/slider-pro/css/slider/adva...   \n",
       "\n",
       "                                          user_agent username  \n",
       "0  Mozilla/4.0 (compatible; MSIE 8.0; Windows NT ...        -  \n",
       "1  Mozilla/4.0 (compatible; MSIE 8.0; Windows NT ...        -  \n",
       "2  Mozilla/4.0 (compatible; MSIE 8.0; Windows NT ...        -  \n",
       "3  Mozilla/4.0 (compatible; MSIE 8.0; Windows NT ...        -  \n",
       "4  Mozilla/4.0 (compatible; MSIE 8.0; Windows NT ...        -  \n",
       "\n",
       "[5 rows x 27 columns]"
      ]
     },
     "execution_count": 4,
     "metadata": {},
     "output_type": "execute_result"
    }
   ],
   "source": [
    "# 从es拿httplog数据\n",
    "http_df = es_reader.load(\"http_log\")\n",
    "http_pddf = http_df.toPandas()\n",
    "print('Read in {:d} Rows...'.format(len(http_pddf)))\n",
    "http_pddf.head()"
   ]
  },
  {
   "cell_type": "code",
   "execution_count": 7,
   "metadata": {},
   "outputs": [],
   "source": [
    "# 挑选出感兴趣的字段\n",
    "features = ['id_resp_p', 'method', 'resp_mime_types', 'request_body_len']"
   ]
  },
  {
   "cell_type": "code",
   "execution_count": 8,
   "metadata": {},
   "outputs": [
    {
     "data": {
      "text/html": [
       "<div>\n",
       "<style scoped>\n",
       "    .dataframe tbody tr th:only-of-type {\n",
       "        vertical-align: middle;\n",
       "    }\n",
       "\n",
       "    .dataframe tbody tr th {\n",
       "        vertical-align: top;\n",
       "    }\n",
       "\n",
       "    .dataframe thead th {\n",
       "        text-align: right;\n",
       "    }\n",
       "</style>\n",
       "<table border=\"1\" class=\"dataframe\">\n",
       "  <thead>\n",
       "    <tr style=\"text-align: right;\">\n",
       "      <th></th>\n",
       "      <th>id_resp_p</th>\n",
       "      <th>method</th>\n",
       "      <th>resp_mime_types</th>\n",
       "      <th>request_body_len</th>\n",
       "    </tr>\n",
       "  </thead>\n",
       "  <tbody>\n",
       "    <tr>\n",
       "      <th>0</th>\n",
       "      <td>80</td>\n",
       "      <td>GET</td>\n",
       "      <td>text/html</td>\n",
       "      <td>0</td>\n",
       "    </tr>\n",
       "    <tr>\n",
       "      <th>1</th>\n",
       "      <td>80</td>\n",
       "      <td>GET</td>\n",
       "      <td>text/html</td>\n",
       "      <td>0</td>\n",
       "    </tr>\n",
       "    <tr>\n",
       "      <th>2</th>\n",
       "      <td>80</td>\n",
       "      <td>GET</td>\n",
       "      <td>text/html</td>\n",
       "      <td>0</td>\n",
       "    </tr>\n",
       "    <tr>\n",
       "      <th>3</th>\n",
       "      <td>80</td>\n",
       "      <td>GET</td>\n",
       "      <td>text/plain</td>\n",
       "      <td>0</td>\n",
       "    </tr>\n",
       "    <tr>\n",
       "      <th>4</th>\n",
       "      <td>80</td>\n",
       "      <td>GET</td>\n",
       "      <td>text/plain</td>\n",
       "      <td>0</td>\n",
       "    </tr>\n",
       "  </tbody>\n",
       "</table>\n",
       "</div>"
      ],
      "text/plain": [
       "   id_resp_p method resp_mime_types  request_body_len\n",
       "0         80    GET       text/html                 0\n",
       "1         80    GET       text/html                 0\n",
       "2         80    GET       text/html                 0\n",
       "3         80    GET      text/plain                 0\n",
       "4         80    GET      text/plain                 0"
      ]
     },
     "execution_count": 8,
     "metadata": {},
     "output_type": "execute_result"
    }
   ],
   "source": [
    "# Show the dataframe with mixed feature types\n",
    "http_pddf[features].head()"
   ]
  },
  {
   "cell_type": "markdown",
   "metadata": {},
   "source": [
    "## 转换\n",
    "**现在将使用 scikit-learn 转换器类将 Pandas DataFrame 转换为 numpy ndarray（矩阵）**"
   ]
  },
  {
   "cell_type": "code",
   "execution_count": 9,
   "metadata": {},
   "outputs": [
    {
     "name": "stdout",
     "output_type": "stream",
     "text": [
      "Changing column method to category...\n",
      "Changing column resp_mime_types to category...\n",
      "Normalizing column id_resp_p...\n",
      "Normalizing column request_body_len...\n",
      "(150, 12)\n"
     ]
    },
    {
     "data": {
      "text/plain": [
       "array([[0., 0., 1., 0., 0., 0., 0., 0., 0., 0., 1., 0.]], dtype=float32)"
      ]
     },
     "execution_count": 9,
     "metadata": {},
     "output_type": "execute_result"
    }
   ],
   "source": [
    "# 使用zat的DataframeToMatrix类将spark Dataframe转换成np array(即将特征分类转换成数值形式)\n",
    "# 注意，此处的fit_transform为DataFrameToMatrix中的方法（但是作用和scikit-learn中的同名方法类似）\n",
    "# 都是对部分数据先拟合fit，根据转换目的找到一些数据中的指标（均值、方差、最大值最小值等），然后进行转换transform，从而实现数据的标准化\n",
    "to_matrix = DataFrameToMatrix()\n",
    "zeek_matrix = to_matrix.fit_transform(http_pddf[features], normalize=True)\n",
    "print(zeek_matrix.shape)\n",
    "zeek_matrix[:1]"
   ]
  },
  {
   "cell_type": "code",
   "execution_count": 10,
   "metadata": {},
   "outputs": [
    {
     "name": "stderr",
     "output_type": "stream",
     "text": [
      "/opt/conda/lib/python3.7/site-packages/sklearn/ensemble/_iforest.py:248: FutureWarning: 'behaviour' is deprecated in 0.22 and will be removed in 0.24. You should not pass or set this parameter.\n",
      "  FutureWarning\n"
     ]
    },
    {
     "data": {
      "text/plain": [
       "IsolationForest(behaviour='new', bootstrap=False, contamination=0.25,\n",
       "                max_features=1.0, max_samples='auto', n_estimators=100,\n",
       "                n_jobs=None, random_state=None, verbose=0, warm_start=False)"
      ]
     },
     "execution_count": 10,
     "metadata": {},
     "output_type": "execute_result"
    }
   ],
   "source": [
    "# 使用隔离森林模型训练(无监督)/拟合和预测异常实例\n",
    "\n",
    "# contamination为用户设置的异常样本的比例（没有深究算法，不太了解其设置的依据）\n",
    "odd_clf = IsolationForest(behaviour='new', contamination=0.25)\n",
    "odd_clf.fit(zeek_matrix)"
   ]
  },
  {
   "cell_type": "code",
   "execution_count": 11,
   "metadata": {},
   "outputs": [
    {
     "name": "stdout",
     "output_type": "stream",
     "text": [
      "(32, 4)\n"
     ]
    },
    {
     "data": {
      "text/html": [
       "<div>\n",
       "<style scoped>\n",
       "    .dataframe tbody tr th:only-of-type {\n",
       "        vertical-align: middle;\n",
       "    }\n",
       "\n",
       "    .dataframe tbody tr th {\n",
       "        vertical-align: top;\n",
       "    }\n",
       "\n",
       "    .dataframe thead th {\n",
       "        text-align: right;\n",
       "    }\n",
       "</style>\n",
       "<table border=\"1\" class=\"dataframe\">\n",
       "  <thead>\n",
       "    <tr style=\"text-align: right;\">\n",
       "      <th></th>\n",
       "      <th>id_resp_p</th>\n",
       "      <th>method</th>\n",
       "      <th>resp_mime_types</th>\n",
       "      <th>request_body_len</th>\n",
       "    </tr>\n",
       "  </thead>\n",
       "  <tbody>\n",
       "    <tr>\n",
       "      <th>106</th>\n",
       "      <td>80</td>\n",
       "      <td>GET</td>\n",
       "      <td>application/x-dosexec</td>\n",
       "      <td>0</td>\n",
       "    </tr>\n",
       "    <tr>\n",
       "      <th>107</th>\n",
       "      <td>80</td>\n",
       "      <td>GET</td>\n",
       "      <td>application/x-dosexec</td>\n",
       "      <td>0</td>\n",
       "    </tr>\n",
       "    <tr>\n",
       "      <th>109</th>\n",
       "      <td>80</td>\n",
       "      <td>GET</td>\n",
       "      <td>application/x-dosexec</td>\n",
       "      <td>0</td>\n",
       "    </tr>\n",
       "    <tr>\n",
       "      <th>112</th>\n",
       "      <td>80</td>\n",
       "      <td>GET</td>\n",
       "      <td>application/x-dosexec</td>\n",
       "      <td>0</td>\n",
       "    </tr>\n",
       "    <tr>\n",
       "      <th>113</th>\n",
       "      <td>80</td>\n",
       "      <td>GET</td>\n",
       "      <td>application/x-dosexec</td>\n",
       "      <td>0</td>\n",
       "    </tr>\n",
       "  </tbody>\n",
       "</table>\n",
       "</div>"
      ],
      "text/plain": [
       "     id_resp_p method        resp_mime_types  request_body_len\n",
       "106         80    GET  application/x-dosexec                 0\n",
       "107         80    GET  application/x-dosexec                 0\n",
       "109         80    GET  application/x-dosexec                 0\n",
       "112         80    GET  application/x-dosexec                 0\n",
       "113         80    GET  application/x-dosexec                 0"
      ]
     },
     "execution_count": 11,
     "metadata": {},
     "output_type": "execute_result"
    }
   ],
   "source": [
    "# 调用训练好的树进行异常检测\n",
    "# odd_clf.predict的返回值为：+1 表示正常样本， -1表示异常样本\n",
    "odd_df = http_pddf[features][odd_clf.predict(zeek_matrix) == -1]\n",
    "print(odd_df.shape)\n",
    "odd_df.head()"
   ]
  },
  {
   "cell_type": "code",
   "execution_count": 12,
   "metadata": {},
   "outputs": [
    {
     "name": "stdout",
     "output_type": "stream",
     "text": [
      "Changing column method to category...\n",
      "Changing column resp_mime_types to category...\n",
      "Normalizing column id_resp_p...\n",
      "Normalizing column request_body_len...\n"
     ]
    }
   ],
   "source": [
    "# 使用KMeans 和 PCA 算法进一步分析异常数据帧\n",
    "# 通过zat把异常数据df转换为np array\n",
    "odd_matrix = to_matrix.fit_transform(odd_df)"
   ]
  },
  {
   "cell_type": "code",
   "execution_count": 13,
   "metadata": {},
   "outputs": [
    {
     "data": {
      "text/html": [
       "<div>\n",
       "<style scoped>\n",
       "    .dataframe tbody tr th:only-of-type {\n",
       "        vertical-align: middle;\n",
       "    }\n",
       "\n",
       "    .dataframe tbody tr th {\n",
       "        vertical-align: top;\n",
       "    }\n",
       "\n",
       "    .dataframe thead th {\n",
       "        text-align: right;\n",
       "    }\n",
       "</style>\n",
       "<table border=\"1\" class=\"dataframe\">\n",
       "  <thead>\n",
       "    <tr style=\"text-align: right;\">\n",
       "      <th></th>\n",
       "      <th>id_resp_p</th>\n",
       "      <th>method</th>\n",
       "      <th>resp_mime_types</th>\n",
       "      <th>request_body_len</th>\n",
       "      <th>x</th>\n",
       "      <th>y</th>\n",
       "      <th>cluster</th>\n",
       "    </tr>\n",
       "  </thead>\n",
       "  <tbody>\n",
       "    <tr>\n",
       "      <th>106</th>\n",
       "      <td>80</td>\n",
       "      <td>GET</td>\n",
       "      <td>application/x-dosexec</td>\n",
       "      <td>0</td>\n",
       "      <td>1.112838</td>\n",
       "      <td>-0.615773</td>\n",
       "      <td>2</td>\n",
       "    </tr>\n",
       "    <tr>\n",
       "      <th>107</th>\n",
       "      <td>80</td>\n",
       "      <td>GET</td>\n",
       "      <td>application/x-dosexec</td>\n",
       "      <td>0</td>\n",
       "      <td>1.112838</td>\n",
       "      <td>-0.615774</td>\n",
       "      <td>2</td>\n",
       "    </tr>\n",
       "    <tr>\n",
       "      <th>109</th>\n",
       "      <td>80</td>\n",
       "      <td>GET</td>\n",
       "      <td>application/x-dosexec</td>\n",
       "      <td>0</td>\n",
       "      <td>1.112838</td>\n",
       "      <td>-0.615773</td>\n",
       "      <td>2</td>\n",
       "    </tr>\n",
       "    <tr>\n",
       "      <th>112</th>\n",
       "      <td>80</td>\n",
       "      <td>GET</td>\n",
       "      <td>application/x-dosexec</td>\n",
       "      <td>0</td>\n",
       "      <td>1.112838</td>\n",
       "      <td>-0.615774</td>\n",
       "      <td>2</td>\n",
       "    </tr>\n",
       "    <tr>\n",
       "      <th>113</th>\n",
       "      <td>80</td>\n",
       "      <td>GET</td>\n",
       "      <td>application/x-dosexec</td>\n",
       "      <td>0</td>\n",
       "      <td>1.112838</td>\n",
       "      <td>-0.615774</td>\n",
       "      <td>2</td>\n",
       "    </tr>\n",
       "  </tbody>\n",
       "</table>\n",
       "</div>"
      ],
      "text/plain": [
       "     id_resp_p method        resp_mime_types  request_body_len         x  \\\n",
       "106         80    GET  application/x-dosexec                 0  1.112838   \n",
       "107         80    GET  application/x-dosexec                 0  1.112838   \n",
       "109         80    GET  application/x-dosexec                 0  1.112838   \n",
       "112         80    GET  application/x-dosexec                 0  1.112838   \n",
       "113         80    GET  application/x-dosexec                 0  1.112838   \n",
       "\n",
       "            y  cluster  \n",
       "106 -0.615773        2  \n",
       "107 -0.615774        2  \n",
       "109 -0.615773        2  \n",
       "112 -0.615774        2  \n",
       "113 -0.615774        2  "
      ]
     },
     "execution_count": 13,
     "metadata": {},
     "output_type": "execute_result"
    }
   ],
   "source": [
    "# 设置簇个数为4对异常数据进行聚类\n",
    "kmeans = KMeans(n_clusters=4).fit_predict(odd_matrix) \n",
    "# 数据降维，以便可视化\n",
    "pca = PCA(n_components=3).fit_transform(odd_matrix)\n",
    "\n",
    "# 结果添加至dataframe\n",
    "odd_df['x'] = pca[:, 0] # PCA X Column\n",
    "odd_df['y'] = pca[:, 1] # PCA Y Column\n",
    "odd_df['cluster'] = kmeans\n",
    "odd_df.head()"
   ]
  },
  {
   "cell_type": "code",
   "execution_count": 14,
   "metadata": {},
   "outputs": [],
   "source": [
    "# Plotting defaults\n",
    "%matplotlib inline\n",
    "import matplotlib.pyplot as plt\n",
    "plt.rcParams['font.size'] = 14.0\n",
    "plt.rcParams['figure.figsize'] = 15.0, 6.0\n",
    "\n",
    "# 用于绘制散点图/蜂群图\n",
    "def jitter(arr):\n",
    "    stdev = .02*(max(arr)-min(arr))\n",
    "    return arr + np.random.randn(len(arr)) * stdev"
   ]
  },
  {
   "cell_type": "code",
   "execution_count": 15,
   "metadata": {},
   "outputs": [
    {
     "data": {
      "image/png": "[encoded data removed]",
      "text/plain": [
       "<Figure size 1080x432 with 1 Axes>"
      ]
     },
     "metadata": {
      "needs_background": "light"
     },
     "output_type": "display_data"
    }
   ],
   "source": [
    "# 将重合数据点进行抖动处理以便观察\n",
    "odd_df['jx'] = jitter(odd_df['x'])\n",
    "odd_df['jy'] = jitter(odd_df['y'])\n",
    "\n",
    "# Now use dataframe group by cluster\n",
    "cluster_groups = odd_df.groupby('cluster')\n",
    "\n",
    "# Plot the Machine Learning results\n",
    "colors = {0:'green', 1:'blue', 2:'red', 3:'orange', 4:'purple', 5:'brown'}\n",
    "fig, ax = plt.subplots()\n",
    "for key, group in cluster_groups:\n",
    "    group.plot(ax=ax, kind='scatter', x='jx', y='jy', alpha=0.5, s=250,\n",
    "               label='Cluster: {:d}'.format(key), color=colors[key])"
   ]
  },
  {
   "cell_type": "code",
   "execution_count": 16,
   "metadata": {},
   "outputs": [
    {
     "name": "stdout",
     "output_type": "stream",
     "text": [
      "\n",
      "Cluster 0: 7 observations\n",
      "     id_resp_p method resp_mime_types  request_body_len\n",
      "126       8080    GET      text/plain                 0\n",
      "127       8080    GET      text/plain                 0\n",
      "128       8080    GET      text/plain                 0\n",
      "129       8080    GET      text/plain                 0\n",
      "130       8080    GET      text/plain                 0\n",
      "\n",
      "Cluster 1: 10 observations\n",
      "     id_resp_p method resp_mime_types  request_body_len\n",
      "140         80   POST      text/plain             69823\n",
      "141         80   POST      text/plain             69993\n",
      "142         80   POST      text/plain             71993\n",
      "143         80   POST      text/plain             70993\n",
      "144         80   POST      text/plain             72993\n",
      "\n",
      "Cluster 2: 8 observations\n",
      "     id_resp_p method        resp_mime_types  request_body_len\n",
      "106         80    GET  application/x-dosexec                 0\n",
      "107         80    GET  application/x-dosexec                 0\n",
      "109         80    GET  application/x-dosexec                 0\n",
      "112         80    GET  application/x-dosexec                 0\n",
      "113         80    GET  application/x-dosexec                 0\n",
      "\n",
      "Cluster 3: 7 observations\n",
      "     id_resp_p   method resp_mime_types  request_body_len\n",
      "133         80  OPTIONS      text/plain                 0\n",
      "134         80  OPTIONS      text/plain                 0\n",
      "135         80  OPTIONS      text/plain                 0\n",
      "136         80  OPTIONS      text/plain                 0\n",
      "137         80  OPTIONS      text/plain                 0\n"
     ]
    }
   ],
   "source": [
    "# 打印每个簇内的数据\n",
    "pd.set_option('display.width', 1000)\n",
    "for key, group in cluster_groups:\n",
    "    print('\\nCluster {:d}: {:d} observations'.format(key, len(group)))\n",
    "    print(group[features].head())"
   ]
  },
  {
   "cell_type": "markdown",
   "metadata": {},
   "source": [
    "#### <div style=\"float: right; margin: 10px 10px 10px 10px\"><img src=\"images/deep_dive.jpeg\" width=\"250px\"></div>\n",
    "## 各个簇表示的异常的分类\n",
    "- Cluster 0: 应用程序/x-dosexec mime_types\n",
    "- Cluster 1: OPTIONS 的 http 方法（而不是普通的 GET/POST）\n",
    "- Cluster 2: 如下\n",
    "- Cluster 3: 响应端口 8080（而不是 80）\n",
    "\n",
    "## 数值变量异常\n",
    "- Cluster 2: request_body_len 值是异常值（对于此演示数据集）\n"
   ]
  },
  {
   "cell_type": "code",
   "execution_count": 17,
   "metadata": {},
   "outputs": [
    {
     "name": "stdout",
     "output_type": "stream",
     "text": [
      "\n",
      "For this small demo dataset almost all request_body_len are 0\n",
      "Cluster 2 represents outliers\n"
     ]
    },
    {
     "data": {
      "image/png": "[encoded data removed]",
      "text/plain": [
       "<Figure size 1080x432 with 1 Axes>"
      ]
     },
     "metadata": {
      "needs_background": "light"
     },
     "output_type": "display_data"
    }
   ],
   "source": [
    "# 分析request长度分布\n",
    "http_pddf[['request_body_len']].hist()\n",
    "print('\\nFor this small demo dataset almost all request_body_len are 0\\nCluster 2 represents outliers')"
   ]
  }
 ],
 "metadata": {
  "kernelspec": {
   "display_name": "Python 3",
   "language": "python",
   "name": "python3"
  },
  "language_info": {
   "codemirror_mode": {
    "name": "ipython",
    "version": 3
   },
   "file_extension": ".py",
   "mimetype": "text/x-python",
   "name": "python",
   "nbconvert_exporter": "python",
   "pygments_lexer": "ipython3",
   "version": "3.7.6"
  }
 },
 "nbformat": 4,
 "nbformat_minor": 4
}

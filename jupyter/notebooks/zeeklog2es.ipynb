{
 "cells": [
  {
   "cell_type": "code",
   "execution_count": 1,
   "metadata": {},
   "outputs": [],
   "source": [
    "# 用于验证使用平台读取zeek解析的log文件并进行处理的demo\n",
    "# 创建SparkSession会话，并连接es\n",
    "from pyspark.sql import SparkSession\n",
    "from pyspark.sql import functions as F\n",
    "from pyspark.sql.types import *\n",
    "import pandas as pd\n",
    "import os\n",
    "\n",
    "spark = SparkSession.builder \\\n",
    "    .appName(\"NetFlowReader\") \\\n",
    "    .enableHiveSupport() \\\n",
    "    .getOrCreate() \\\n",
    "\n",
    "es_reader = (spark.read\n",
    "    .format(\"org.elasticsearch.spark.sql\")\n",
    "    .option(\"inferSchema\", \"true\")\n",
    "    .option(\"es.nodes\",\"elksj-elasticsearch:9200\")\n",
    ")"
   ]
  },
  {
   "cell_type": "code",
   "execution_count": 2,
   "metadata": {},
   "outputs": [
    {
     "name": "stdout",
     "output_type": "stream",
     "text": [
      "ZAT: 0.4.4\n",
      "Pandas: 1.0.4\n"
     ]
    }
   ],
   "source": [
    "# 导入zat,将log转换为Dataframe\n",
    "import zat\n",
    "from zat import log_to_sparkdf\n",
    "\n",
    "# 打印版本\n",
    "print('ZAT: {:s}'.format(zat.__version__))\n",
    "print('Pandas: {:s}'.format(pd.__version__))"
   ]
  },
  {
   "cell_type": "code",
   "execution_count": 15,
   "metadata": {},
   "outputs": [
    {
     "name": "stdout",
     "output_type": "stream",
     "text": [
      "+--------------------+--------+------------+----+----+-----+----+-----------+-----------+--------------+--------------------+--------+------+----+-----+----+\n",
      "|          @timestamp|@version|capture_loss|conn| dns|files|http|known_certs|known_hosts|known_services|      loaded_scripts|log_type|notice| ssl|stats|x509|\n",
      "+--------------------+--------+------------+----+----+-----+----+-----------+-----------+--------------+--------------------+--------+------+----+-----+----+\n",
      "|2022-03-21 04:08:...|       1|        null|null|null| null|null|       null|       null|          null|[        /usr/loc...|    zeek|  null|null| null|null|\n",
      "|2022-03-21 04:08:...|       1|        null|null|null| null|null|       null|       null|          null|[        /usr/loc...|    zeek|  null|null| null|null|\n",
      "|2022-03-21 04:08:...|       1|        null|null|null| null|null|       null|       null|          null|[        /usr/loc...|    zeek|  null|null| null|null|\n",
      "|2022-03-21 04:08:...|       1|        null|null|null| null|null|       null|       null|          null|[        /usr/loc...|    zeek|  null|null| null|null|\n",
      "|2022-03-21 04:08:...|       1|        null|null|null| null|null|       null|       null|          null|[          /usr/l...|    zeek|  null|null| null|null|\n",
      "|2022-03-21 04:08:...|       1|        null|null|null| null|null|       null|       null|          null|[            /usr...|    zeek|  null|null| null|null|\n",
      "|2022-03-21 04:08:...|       1|        null|null|null| null|null|       null|       null|          null|[              /u...|    zeek|  null|null| null|null|\n",
      "|2022-03-21 04:08:...|       1|        null|null|null| null|null|       null|       null|          null|[    /usr/local/z...|    zeek|  null|null| null|null|\n",
      "|2022-03-21 04:08:...|       1|        null|null|null| null|null|       null|       null|          null|[    /usr/local/z...|    zeek|  null|null| null|null|\n",
      "|2022-03-21 04:08:...|       1|        null|null|null| null|null|       null|       null|          null|[  /usr/local/zee...|    zeek|  null|null| null|null|\n",
      "|2022-03-21 04:08:...|       1|        null|null|null| null|null|       null|       null|          null|[    /usr/local/z...|    zeek|  null|null| null|null|\n",
      "|2022-03-21 04:08:...|       1|        null|null|null| null|null|       null|       null|          null|[  /usr/local/zee...|    zeek|  null|null| null|null|\n",
      "|2022-03-21 04:08:...|       1|        null|null|null| null|null|       null|       null|          null|[    /usr/local/z...|    zeek|  null|null| null|null|\n",
      "|2022-03-21 04:08:...|       1|        null|null|null| null|null|       null|       null|          null|[    /usr/local/z...|    zeek|  null|null| null|null|\n",
      "|2022-03-21 04:08:...|       1|        null|null|null| null|null|       null|       null|          null|[    /usr/local/z...|    zeek|  null|null| null|null|\n",
      "|2022-03-21 04:08:...|       1|        null|null|null| null|null|       null|       null|          null|[  /usr/local/zee...|    zeek|  null|null| null|null|\n",
      "|2022-03-21 04:08:...|       1|        null|null|null| null|null|       null|       null|          null|[    /usr/local/z...|    zeek|  null|null| null|null|\n",
      "|2022-03-21 04:08:...|       1|        null|null|null| null|null|       null|       null|          null|[      /usr/local...|    zeek|  null|null| null|null|\n",
      "|2022-03-21 04:08:...|       1|        null|null|null| null|null|       null|       null|          null|[    /usr/local/z...|    zeek|  null|null| null|null|\n",
      "|2022-03-21 04:08:...|       1|        null|null|null| null|null|       null|       null|          null|[  /usr/local/zee...|    zeek|  null|null| null|null|\n",
      "+--------------------+--------+------------+----+----+-----+----+-----------+-----------+--------------+--------------------+--------+------+----+-----+----+\n",
      "only showing top 20 rows\n",
      "\n"
     ]
    }
   ],
   "source": [
    "# 读取es中保存的zeeklog（该log由logstash通过kafka向zeek获取后存至es）\n",
    "zeeklogDF = es_reader.load(\"zeek-2022.03.21\")\n",
    "zeeklogDF.show()"
   ]
  },
  {
   "cell_type": "code",
   "execution_count": 16,
   "metadata": {},
   "outputs": [
    {
     "name": "stdout",
     "output_type": "stream",
     "text": [
      "+--------------------+--------+--------+--------------------+\n",
      "|          @timestamp|@version|log_type|      loaded_scripts|\n",
      "+--------------------+--------+--------+--------------------+\n",
      "|2022-03-21 04:08:...|       1|    zeek|[        /usr/loc...|\n",
      "|2022-03-21 04:08:...|       1|    zeek|[        /usr/loc...|\n",
      "|2022-03-21 04:08:...|       1|    zeek|[        /usr/loc...|\n",
      "|2022-03-21 04:08:...|       1|    zeek|[        /usr/loc...|\n",
      "|2022-03-21 04:08:...|       1|    zeek|[          /usr/l...|\n",
      "|2022-03-21 04:08:...|       1|    zeek|[            /usr...|\n",
      "|2022-03-21 04:08:...|       1|    zeek|[              /u...|\n",
      "|2022-03-21 04:08:...|       1|    zeek|[    /usr/local/z...|\n",
      "|2022-03-21 04:08:...|       1|    zeek|[    /usr/local/z...|\n",
      "|2022-03-21 04:08:...|       1|    zeek|[  /usr/local/zee...|\n",
      "|2022-03-21 04:08:...|       1|    zeek|[    /usr/local/z...|\n",
      "|2022-03-21 04:08:...|       1|    zeek|[  /usr/local/zee...|\n",
      "|2022-03-21 04:08:...|       1|    zeek|[    /usr/local/z...|\n",
      "|2022-03-21 04:08:...|       1|    zeek|[    /usr/local/z...|\n",
      "|2022-03-21 04:08:...|       1|    zeek|[    /usr/local/z...|\n",
      "|2022-03-21 04:08:...|       1|    zeek|[  /usr/local/zee...|\n",
      "|2022-03-21 04:08:...|       1|    zeek|[    /usr/local/z...|\n",
      "|2022-03-21 04:08:...|       1|    zeek|[      /usr/local...|\n",
      "|2022-03-21 04:08:...|       1|    zeek|[    /usr/local/z...|\n",
      "|2022-03-21 04:08:...|       1|    zeek|[  /usr/local/zee...|\n",
      "+--------------------+--------+--------+--------------------+\n",
      "only showing top 20 rows\n",
      "\n"
     ]
    }
   ],
   "source": [
    "# 筛选出特定字段\n",
    "features = ['@timestamp', '@version', 'log_type', 'loaded_scripts']\n",
    "zeeklogDF[features].show()"
   ]
  },
  {
   "cell_type": "code",
   "execution_count": 17,
   "metadata": {},
   "outputs": [
    {
     "data": {
      "text/html": [
       "<div>\n",
       "<style scoped>\n",
       "    .dataframe tbody tr th:only-of-type {\n",
       "        vertical-align: middle;\n",
       "    }\n",
       "\n",
       "    .dataframe tbody tr th {\n",
       "        vertical-align: top;\n",
       "    }\n",
       "\n",
       "    .dataframe thead th {\n",
       "        text-align: right;\n",
       "    }\n",
       "</style>\n",
       "<table border=\"1\" class=\"dataframe\">\n",
       "  <thead>\n",
       "    <tr style=\"text-align: right;\">\n",
       "      <th></th>\n",
       "      <th>@timestamp</th>\n",
       "      <th>@version</th>\n",
       "      <th>log_type</th>\n",
       "      <th>loaded_scripts</th>\n",
       "    </tr>\n",
       "  </thead>\n",
       "  <tbody>\n",
       "    <tr>\n",
       "      <th>0</th>\n",
       "      <td>2022-03-21 04:08:46.135</td>\n",
       "      <td>1</td>\n",
       "      <td>zeek</td>\n",
       "      <td>(        /usr/local/zeek/share/zeek/base/proto...</td>\n",
       "    </tr>\n",
       "    <tr>\n",
       "      <th>1</th>\n",
       "      <td>2022-03-21 04:08:46.135</td>\n",
       "      <td>1</td>\n",
       "      <td>zeek</td>\n",
       "      <td>(        /usr/local/zeek/share/zeek/base/proto...</td>\n",
       "    </tr>\n",
       "    <tr>\n",
       "      <th>2</th>\n",
       "      <td>2022-03-21 04:08:46.136</td>\n",
       "      <td>1</td>\n",
       "      <td>zeek</td>\n",
       "      <td>(        /usr/local/zeek/share/zeek/base/proto...</td>\n",
       "    </tr>\n",
       "    <tr>\n",
       "      <th>3</th>\n",
       "      <td>2022-03-21 04:08:46.136</td>\n",
       "      <td>1</td>\n",
       "      <td>zeek</td>\n",
       "      <td>(        /usr/local/zeek/share/zeek/base/proto...</td>\n",
       "    </tr>\n",
       "    <tr>\n",
       "      <th>4</th>\n",
       "      <td>2022-03-21 04:08:46.136</td>\n",
       "      <td>1</td>\n",
       "      <td>zeek</td>\n",
       "      <td>(          /usr/local/zeek/share/zeek/base/fil...</td>\n",
       "    </tr>\n",
       "  </tbody>\n",
       "</table>\n",
       "</div>"
      ],
      "text/plain": [
       "               @timestamp @version log_type  \\\n",
       "0 2022-03-21 04:08:46.135        1     zeek   \n",
       "1 2022-03-21 04:08:46.135        1     zeek   \n",
       "2 2022-03-21 04:08:46.136        1     zeek   \n",
       "3 2022-03-21 04:08:46.136        1     zeek   \n",
       "4 2022-03-21 04:08:46.136        1     zeek   \n",
       "\n",
       "                                      loaded_scripts  \n",
       "0  (        /usr/local/zeek/share/zeek/base/proto...  \n",
       "1  (        /usr/local/zeek/share/zeek/base/proto...  \n",
       "2  (        /usr/local/zeek/share/zeek/base/proto...  \n",
       "3  (        /usr/local/zeek/share/zeek/base/proto...  \n",
       "4  (          /usr/local/zeek/share/zeek/base/fil...  "
      ]
     },
     "execution_count": 17,
     "metadata": {},
     "output_type": "execute_result"
    }
   ],
   "source": [
    "zeekpdDF = zeeklogDF[features].toPandas()\n",
    "zeekpdDF.head()"
   ]
  },
  {
   "cell_type": "code",
   "execution_count": 18,
   "metadata": {},
   "outputs": [
    {
     "data": {
      "text/plain": [
       "Row(@timestamp=datetime.datetime(2022, 3, 21, 4, 8, 46, 135000), @version='1', log_type='zeek', loaded_scripts=Row(name='        /usr/local/zeek/share/zeek/base/protocols/ssl/main.zeek'))"
      ]
     },
     "execution_count": 18,
     "metadata": {},
     "output_type": "execute_result"
    }
   ],
   "source": [
    "newDF = spark.createDataFrame(zeekpdDF)\n",
    "newDF.head()"
   ]
  },
  {
   "cell_type": "code",
   "execution_count": 19,
   "metadata": {},
   "outputs": [],
   "source": [
    "# Store to elasticsearch把Spark DF存到es\n",
    "(newDF.write.format('org.elasticsearch.spark.sql')\n",
    "              .option(\"es.nodes\",\"elksj-elasticsearch:9200\")\n",
    "              .option('es.resource', '%s/%s' % ('simplify_zeeklog', 'newDF'))\n",
    "              .save())"
   ]
  },
  {
   "cell_type": "code",
   "execution_count": null,
   "metadata": {},
   "outputs": [],
   "source": []
  }
 ],
 "metadata": {
  "kernelspec": {
   "display_name": "Python 3",
   "language": "python",
   "name": "python3"
  },
  "language_info": {
   "codemirror_mode": {
    "name": "ipython",
    "version": 3
   },
   "file_extension": ".py",
   "mimetype": "text/x-python",
   "name": "python",
   "nbconvert_exporter": "python",
   "pygments_lexer": "ipython3",
   "version": "3.7.6"
  }
 },
 "nbformat": 4,
 "nbformat_minor": 4
}

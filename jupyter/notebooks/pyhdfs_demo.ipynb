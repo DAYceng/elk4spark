{
 "cells": [
  {
   "cell_type": "code",
   "execution_count": 1,
   "metadata": {},
   "outputs": [
    {
     "name": "stdout",
     "output_type": "stream",
     "text": [
      "pyhdfs: 0.3.1\n"
     ]
    }
   ],
   "source": [
    "import pyhdfs\n",
    "print('pyhdfs: {:s}'.format(pyhdfs.__version__))"
   ]
  },
  {
   "cell_type": "code",
   "execution_count": 2,
   "metadata": {},
   "outputs": [],
   "source": [
    "# 建立pyhdfs客户端\n",
    "fs = pyhdfs.HdfsClient(hosts=\"47.74.48.102:9870\", user_name=\"root\")"
   ]
  },
  {
   "cell_type": "code",
   "execution_count": 3,
   "metadata": {},
   "outputs": [
    {
     "name": "stdout",
     "output_type": "stream",
     "text": [
      "/user/root\n",
      "47.74.48.102:9870\n"
     ]
    }
   ],
   "source": [
    "# 返回用户根目录\n",
    "userhomedir = fs.get_home_directory()\n",
    "print(userhomedir)\n",
    "availablenode = fs.get_active_namenode()\n",
    "print(availablenode)"
   ]
  },
  {
   "cell_type": "code",
   "execution_count": 4,
   "metadata": {},
   "outputs": [
    {
     "name": "stdout",
     "output_type": "stream",
     "text": [
      "['app-logs', 'data', 'rmstate']\n"
     ]
    }
   ],
   "source": [
    "# 创建data文件夹\n",
    "fs.mkdirs(\"/data\")\n",
    "print(fs.listdir(\"/\"))"
   ]
  },
  {
   "cell_type": "code",
   "execution_count": 5,
   "metadata": {},
   "outputs": [],
   "source": [
    "# 从本地上传到hadoop上\n",
    "fs.copy_from_local(\"http.log\", \"/data/http.log\", overwrite=True)  \n",
    "# 从hadoop下载到本地\n",
    "fs.copy_to_local(\"/data/http.log\", 'http2.log')"
   ]
  },
  {
   "cell_type": "code",
   "execution_count": 6,
   "metadata": {},
   "outputs": [
    {
     "data": {
      "text/plain": [
       "True"
      ]
     },
     "execution_count": 6,
     "metadata": {},
     "output_type": "execute_result"
    }
   ],
   "source": [
    "# 删除文件\n",
    "fs.delete(\"/data/http.log\")  "
   ]
  },
  {
   "cell_type": "code",
   "execution_count": null,
   "metadata": {},
   "outputs": [],
   "source": []
  }
 ],
 "metadata": {
  "kernelspec": {
   "display_name": "Python 3",
   "language": "python",
   "name": "python3"
  },
  "language_info": {
   "codemirror_mode": {
    "name": "ipython",
    "version": 3
   },
   "file_extension": ".py",
   "mimetype": "text/x-python",
   "name": "python",
   "nbconvert_exporter": "python",
   "pygments_lexer": "ipython3",
   "version": "3.7.6"
  }
 },
 "nbformat": 4,
 "nbformat_minor": 4
}

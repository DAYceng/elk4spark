{
 "cells": [
  {
   "cell_type": "code",
   "execution_count": 1,
   "metadata": {},
   "outputs": [],
   "source": [
    "# 导入elasticsearch\n",
    "from elasticsearch import Elasticsearch\n",
    "from elasticsearch.helpers import scan\n",
    "import pandas as pd"
   ]
  },
  {
   "cell_type": "code",
   "execution_count": 2,
   "metadata": {},
   "outputs": [],
   "source": [
    "# 连接es\n",
    "es = Elasticsearch(\"http://47.74.18.216:9200\")"
   ]
  },
  {
   "cell_type": "code",
   "execution_count": 3,
   "metadata": {},
   "outputs": [],
   "source": [
    "# 定义请求规则,仅查询dns产生的日志下的\"event\"字段\n",
    "# query: The elasticsearch query.    \n",
    "# plugin_id: suricata (1001)、ossec (50001)、 zeek (1234)\n",
    "query = {\n",
    "    \"_source\": {\n",
    "            \"includes\": [\"event\",\"original\"]\n",
    "        },\n",
    "        \"query\": {\n",
    "            \"match_all\": {}\n",
    "        }\n",
    "}\n",
    "class JSONObject:\n",
    "     def __init__(self, d):\n",
    "        self.__dict__ = d"
   ]
  },
  {
   "cell_type": "code",
   "execution_count": 4,
   "metadata": {},
   "outputs": [
    {
     "name": "stdout",
     "output_type": "stream",
     "text": [
      "[{'ts': '2022-05-19T01:00:01.739026Z', 'uid': 'Cs61Af19QTsh7d5E29', 'id.orig_h': '172.16.170.146', 'id.orig_p': 59002, 'id.resp_h': '100.100.2.138', 'id.resp_p': 53, 'proto': 'udp', 'trans_id': 37557, 'query': '238.7.248.197.in-addr.arpa', 'rcode': 0, 'rcode_name': 'NOERROR', 'AA': False, 'TC': False, 'RD': False, 'RA': True, 'Z': 0, 'answers': ['197-248-7-238.safaricombusiness.co.ke'], 'TTLs': [3600.0], 'rejected': False}, {'ts': '2022-05-20T02:40:13.601309Z', 'uid': 'CYGs593zieSkgnbsx3', 'id.orig_h': '172.16.170.146', 'id.orig_p': 45586, 'id.resp_h': '100.100.2.136', 'id.resp_p': 53, 'proto': 'udp', 'trans_id': 44674, 'query': 'ap-northeast-1.axt.aliyun.com', 'rcode': 0, 'rcode_name': 'NOERROR', 'AA': False, 'TC': False, 'RD': False, 'RA': True, 'Z': 0, 'answers': ['100.100.0.76'], 'TTLs': [300.0], 'rejected': False}, {'ts': '2022-05-18T05:00:00.660347Z', 'uid': 'CF7xbF4of3YpVoUv9', 'id.orig_h': '172.16.170.146', 'id.orig_p': 46067, 'id.resp_h': '100.100.2.138', 'id.resp_p': 53, 'proto': 'udp', 'trans_id': 29963, 'rcode': 3, 'rcode_name': 'NXDOMAIN', 'AA': False, 'TC': False, 'RD': False, 'RA': False, 'Z': 0, 'rejected': False}, {'ts': '2022-05-19T01:00:01.745576Z', 'uid': 'Cuf3k34XI3UhglQszl', 'id.orig_h': '172.16.170.146', 'id.orig_p': 60267, 'id.resp_h': '100.100.2.138', 'id.resp_p': 53, 'proto': 'udp', 'trans_id': 57555, 'rcode': 3, 'rcode_name': 'NXDOMAIN', 'AA': False, 'TC': False, 'RD': False, 'RA': False, 'Z': 0, 'rejected': False}, {'ts': '2022-05-20T02:42:56.839481Z', 'uid': 'Cz37nP1VfUuM3p9yN7', 'id.orig_h': '91.134.185.91', 'id.orig_p': 514, 'id.resp_h': '172.16.170.146', 'id.resp_p': 53, 'proto': 'udp', 'trans_id': 13551, 'query': 'version.bind', 'qclass': 3, 'qclass_name': 'C_CHAOS', 'qtype': 16, 'qtype_name': 'TXT', 'AA': False, 'TC': False, 'RD': True, 'RA': False, 'Z': 0, 'rejected': False}, {'ts': '2022-05-18T05:00:00.768898Z', 'uid': 'CCkZj42cVqviUZETZd', 'id.orig_h': '172.16.170.146', 'id.orig_p': 56791, 'id.resp_h': '100.100.2.138', 'id.resp_p': 53, 'proto': 'udp', 'trans_id': 11833, 'rcode': 3, 'rcode_name': 'NXDOMAIN', 'AA': False, 'TC': False, 'RD': False, 'RA': False, 'Z': 0, 'rejected': False}, {'ts': '2022-05-19T01:00:01.754701Z', 'uid': 'CU5avE1OTscCEBzadi', 'id.orig_h': '172.16.170.146', 'id.orig_p': 53279, 'id.resp_h': '100.100.2.138', 'id.resp_p': 53, 'proto': 'udp', 'trans_id': 30024, 'rcode': 3, 'rcode_name': 'NXDOMAIN', 'AA': False, 'TC': False, 'RD': False, 'RA': False, 'Z': 0, 'rejected': False}, {'ts': '2022-05-20T02:43:08.636518Z', 'uid': 'CCMUuL13Rx1RS4qItb', 'id.orig_h': '172.16.170.146', 'id.orig_p': 44515, 'id.resp_h': '100.100.2.136', 'id.resp_p': 53, 'proto': 'udp', 'trans_id': 61893, 'rcode': 0, 'rcode_name': 'NOERROR', 'AA': False, 'TC': False, 'RD': False, 'RA': False, 'Z': 0, 'rejected': False}, {'ts': '2022-05-18T05:00:00.891730Z', 'uid': 'Cka7OC1o7RkkfymKk3', 'id.orig_h': '172.16.170.146', 'id.orig_p': 57143, 'id.resp_h': '100.100.2.138', 'id.resp_p': 53, 'proto': 'udp', 'trans_id': 58187, 'rcode': 3, 'rcode_name': 'NXDOMAIN', 'AA': False, 'TC': False, 'RD': False, 'RA': False, 'Z': 0, 'rejected': False}, {'ts': '2022-05-19T01:00:02.636147Z', 'uid': 'C7BHKohBXsoD0yl3d', 'id.orig_h': '172.16.170.146', 'id.orig_p': 43976, 'id.resp_h': '100.100.2.138', 'id.resp_p': 53, 'proto': 'udp', 'trans_id': 56130, 'query': '42.132.16.200.in-addr.arpa', 'rcode': 0, 'rcode_name': 'NOERROR', 'AA': False, 'TC': False, 'RD': False, 'RA': True, 'Z': 0, 'answers': ['host42.advance.com.ar'], 'TTLs': [86400.0], 'rejected': False}, {'ts': '2022-05-20T02:46:03.676870Z', 'uid': 'Ctmsp52FOZ8xQifC9k', 'id.orig_h': '172.16.170.146', 'id.orig_p': 40101, 'id.resp_h': '100.100.2.136', 'id.resp_p': 53, 'proto': 'udp', 'trans_id': 31655, 'query': 'ap-northeast-1.axt.aliyun.com', 'rcode': 0, 'rcode_name': 'NOERROR', 'AA': False, 'TC': False, 'RD': False, 'RA': True, 'Z': 0, 'answers': ['100.100.0.76'], 'TTLs': [300.0], 'rejected': False}, {'ts': '2022-05-18T05:00:01.011146Z', 'uid': 'CEg89H1vPyhw7Zo9ie', 'id.orig_h': '172.16.170.146', 'id.orig_p': 46127, 'id.resp_h': '100.100.2.138', 'id.resp_p': 53, 'proto': 'udp', 'trans_id': 5293, 'rcode': 3, 'rcode_name': 'NXDOMAIN', 'AA': False, 'TC': False, 'RD': False, 'RA': False, 'Z': 0, 'rejected': False}, {'ts': '2022-05-19T01:00:02.641623Z', 'uid': 'CAGUVP2JE14XFRixkc', 'id.orig_h': '172.16.170.146', 'id.orig_p': 43592, 'id.resp_h': '100.100.2.136', 'id.resp_p': 53, 'proto': 'udp', 'trans_id': 60418, 'rcode': 3, 'rcode_name': 'NXDOMAIN', 'AA': False, 'TC': False, 'RD': False, 'RA': False, 'Z': 0, 'rejected': False}, {'ts': '2022-05-20T02:50:29.755999Z', 'uid': 'Ckf51upAqKl1Mt27l', 'id.orig_h': '146.88.240.4', 'id.orig_p': 37618, 'id.resp_h': '172.16.170.146', 'id.resp_p': 137, 'proto': 'udp', 'trans_id': 58840, 'query': '*', 'qclass': 1, 'qclass_name': 'C_INTERNET', 'qtype': 33, 'qtype_name': 'NBSTAT', 'AA': False, 'TC': False, 'RD': False, 'RA': False, 'Z': 0, 'rejected': False}, {'ts': '2022-05-18T05:00:01.200699Z', 'uid': 'Cthk5j4585rXZxR7gi', 'id.orig_h': '172.16.170.146', 'id.orig_p': 51909, 'id.resp_h': '100.100.2.138', 'id.resp_p': 53, 'proto': 'udp', 'trans_id': 51450, 'rcode': 3, 'rcode_name': 'NXDOMAIN', 'AA': False, 'TC': False, 'RD': False, 'RA': False, 'Z': 0, 'rejected': False}, {'ts': '2022-05-19T01:00:02.831757Z', 'uid': 'Crybni2f693DHqPeL3', 'id.orig_h': '172.16.170.146', 'id.orig_p': 38850, 'id.resp_h': '100.100.2.136', 'id.resp_p': 53, 'proto': 'udp', 'trans_id': 32740, 'rcode': 3, 'rcode_name': 'NXDOMAIN', 'AA': False, 'TC': False, 'RD': False, 'RA': False, 'Z': 0, 'rejected': False}, {'ts': '2022-05-20T02:51:56.760343Z', 'uid': 'C66oq71uUcNKVHkrSc', 'id.orig_h': '172.16.170.146', 'id.orig_p': 52312, 'id.resp_h': '100.100.2.136', 'id.resp_p': 53, 'proto': 'udp', 'trans_id': 33571, 'query': 'ap-northeast-1.axt.aliyun.com', 'rcode': 0, 'rcode_name': 'NOERROR', 'AA': False, 'TC': False, 'RD': False, 'RA': True, 'Z': 0, 'answers': ['100.100.0.76'], 'TTLs': [300.0], 'rejected': False}, {'ts': '2022-05-18T05:00:01.320076Z', 'uid': 'Cqjp0O2Tl94AacAkQf', 'id.orig_h': '172.16.170.146', 'id.orig_p': 56864, 'id.resp_h': '100.100.2.138', 'id.resp_p': 53, 'proto': 'udp', 'trans_id': 58728, 'rcode': 3, 'rcode_name': 'NXDOMAIN', 'AA': False, 'TC': False, 'RD': False, 'RA': False, 'Z': 0, 'rejected': False}, {'ts': '2022-05-19T01:00:02.951735Z', 'uid': 'COtiKF1bWLIvGiUpg1', 'id.orig_h': '172.16.170.146', 'id.orig_p': 42140, 'id.resp_h': '100.100.2.136', 'id.resp_p': 53, 'proto': 'udp', 'trans_id': 10251, 'query': '4.240.88.146.in-addr.arpa', 'rcode': 0, 'rcode_name': 'NOERROR', 'AA': False, 'TC': False, 'RD': False, 'RA': True, 'Z': 0, 'answers': ['www.arbor-observatory.com'], 'TTLs': [3600.0], 'rejected': False}, {'ts': '2022-05-20T02:53:30.208517Z', 'uid': 'CCLXOwHg9TvhRccah', 'id.orig_h': '172.16.170.146', 'id.orig_p': 45210, 'id.resp_h': '100.100.2.136', 'id.resp_p': 53, 'proto': 'udp', 'trans_id': 5608, 'rcode': 3, 'rcode_name': 'NXDOMAIN', 'AA': False, 'TC': False, 'RD': False, 'RA': False, 'Z': 0, 'rejected': False}, {'ts': '2022-05-18T05:00:01.332279Z', 'uid': 'C7IZpT1Y7xyHPHSpX7', 'id.orig_h': '172.16.170.146', 'id.orig_p': 49869, 'id.resp_h': '100.100.2.138', 'id.resp_p': 53, 'proto': 'udp', 'trans_id': 15520, 'rcode': 3, 'rcode_name': 'NXDOMAIN', 'AA': False, 'TC': False, 'RD': False, 'RA': False, 'Z': 0, 'rejected': False}, {'ts': '2022-05-19T01:00:03.069894Z', 'uid': 'CSrDYj121UwUVf81m1', 'id.orig_h': '172.16.170.146', 'id.orig_p': 34035, 'id.resp_h': '100.100.2.136', 'id.resp_p': 53, 'proto': 'udp', 'trans_id': 28549, 'query': '214.15.139.37.in-addr.arpa', 'rcode': 0, 'rcode_name': 'NOERROR', 'AA': False, 'TC': False, 'RD': False, 'RA': True, 'Z': 0, 'answers': ['airtime.joyradio.cc'], 'TTLs': [1646.0], 'rejected': False}, {'ts': '2022-05-20T02:53:54.787726Z', 'uid': 'CV6IR94qTx9vUD0688', 'id.orig_h': '172.16.170.146', 'id.orig_p': 38403, 'id.resp_h': '100.100.2.136', 'id.resp_p': 53, 'proto': 'udp', 'trans_id': 11362, 'rcode': 0, 'rcode_name': 'NOERROR', 'AA': False, 'TC': False, 'RD': False, 'RA': False, 'Z': 0, 'rejected': False}, {'ts': '2022-05-18T05:00:00.528817Z', 'uid': 'CfPVNl1OtuEdoUaFjf', 'id.orig_h': '172.16.170.146', 'id.orig_p': 34433, 'id.resp_h': '100.100.2.138', 'id.resp_p': 53, 'proto': 'udp', 'trans_id': 32479, 'rcode': 3, 'rcode_name': 'NXDOMAIN', 'AA': False, 'TC': False, 'RD': False, 'RA': False, 'Z': 0, 'rejected': True}, {'ts': '2022-05-19T01:00:03.176121Z', 'uid': 'Cd3WUW2aw7gs98QcZd', 'id.orig_h': '172.16.170.146', 'id.orig_p': 58810, 'id.resp_h': '100.100.2.136', 'id.resp_p': 53, 'proto': 'udp', 'trans_id': 27041, 'rcode': 3, 'rcode_name': 'NXDOMAIN', 'AA': False, 'TC': False, 'RD': False, 'RA': False, 'Z': 0, 'rejected': False}, {'ts': '2022-05-20T02:56:57.648452Z', 'uid': 'Co0QvX4D0Z2x8k1M2', 'id.orig_h': '172.16.170.146', 'id.orig_p': 48102, 'id.resp_h': '100.100.2.136', 'id.resp_p': 53, 'proto': 'udp', 'trans_id': 18675, 'query': 'ap-northeast-1.axt.aliyun.com', 'rcode': 0, 'rcode_name': 'NOERROR', 'AA': False, 'TC': False, 'RD': False, 'RA': True, 'Z': 0, 'answers': ['100.100.0.76'], 'TTLs': [300.0], 'rejected': False}, {'ts': '2022-05-18T05:00:00.544857Z', 'uid': 'CAWZWh1P2BpKSolSmh', 'id.orig_h': '172.16.170.146', 'id.orig_p': 33089, 'id.resp_h': '100.100.2.138', 'id.resp_p': 53, 'proto': 'udp', 'trans_id': 32127, 'rcode': 3, 'rcode_name': 'NXDOMAIN', 'AA': False, 'TC': False, 'RD': False, 'RA': False, 'Z': 0, 'rejected': False}, {'ts': '2022-05-19T01:00:03.294496Z', 'uid': 'CzYYmv1VXHLjEu60F4', 'id.orig_h': '172.16.170.146', 'id.orig_p': 58536, 'id.resp_h': '100.100.2.136', 'id.resp_p': 53, 'proto': 'udp', 'trans_id': 10050, 'rcode': 3, 'rcode_name': 'NXDOMAIN', 'AA': False, 'TC': False, 'RD': False, 'RA': False, 'Z': 0, 'rejected': False}, {'ts': '2022-05-20T03:00:00.462854Z', 'uid': 'C3cMrM1ngAdteV5wua', 'id.orig_h': '172.16.170.146', 'id.orig_p': 54034, 'id.resp_h': '100.100.2.136', 'id.resp_p': 53, 'proto': 'udp', 'trans_id': 25935, 'rcode': 3, 'rcode_name': 'NXDOMAIN', 'AA': False, 'TC': False, 'RD': False, 'RA': False, 'Z': 0, 'rejected': False}, {'ts': '2022-05-18T05:00:00.666483Z', 'uid': 'CYNagO2TlS8j527UZa', 'id.orig_h': '172.16.170.146', 'id.orig_p': 42106, 'id.resp_h': '100.100.2.138', 'id.resp_p': 53, 'proto': 'udp', 'trans_id': 11204, 'rcode': 3, 'rcode_name': 'NXDOMAIN', 'AA': False, 'TC': False, 'RD': False, 'RA': False, 'Z': 0, 'rejected': False}, {'ts': '2022-05-19T01:00:03.401786Z', 'uid': 'CMWJtu3fKNeDkDjMLg', 'id.orig_h': '172.16.170.146', 'id.orig_p': 37669, 'id.resp_h': '100.100.2.136', 'id.resp_p': 53, 'proto': 'udp', 'trans_id': 65002, 'rcode': 3, 'rcode_name': 'NXDOMAIN', 'AA': False, 'TC': False, 'RD': False, 'RA': False, 'Z': 0, 'rejected': False}, {'ts': '2022-05-20T03:00:00.466764Z', 'uid': 'CVJ7G21rhhkTRBXGkl', 'id.orig_h': '172.16.170.146', 'id.orig_p': 37096, 'id.resp_h': '100.100.2.136', 'id.resp_p': 53, 'proto': 'udp', 'trans_id': 29104, 'rcode': 3, 'rcode_name': 'NXDOMAIN', 'AA': False, 'TC': False, 'RD': False, 'RA': False, 'Z': 0, 'rejected': False}, {'ts': '2022-05-18T05:00:00.775693Z', 'uid': 'CB2s6TlRUWVEpNuX6', 'id.orig_h': '172.16.170.146', 'id.orig_p': 55481, 'id.resp_h': '100.100.2.138', 'id.resp_p': 53, 'proto': 'udp', 'trans_id': 27334, 'rcode': 3, 'rcode_name': 'NXDOMAIN', 'AA': False, 'TC': False, 'RD': False, 'RA': False, 'Z': 0, 'rejected': False}, {'ts': '2022-05-19T01:00:01.521034Z', 'uid': 'C8oSlW3bwQOnMey1j3', 'id.orig_h': '172.16.170.146', 'id.orig_p': 34342, 'id.resp_h': '100.100.2.136', 'id.resp_p': 53, 'proto': 'udp', 'trans_id': 37557, 'query': '238.7.248.197.in-addr.arpa', 'rcode': 0, 'rcode_name': 'NOERROR', 'AA': False, 'TC': False, 'RD': False, 'RA': True, 'Z': 0, 'answers': ['197-248-7-238.safaricombusiness.co.ke'], 'TTLs': [3600.0], 'rejected': False}, {'ts': '2022-05-20T03:00:00.579294Z', 'uid': 'CaNFfo2vGz757N0uI7', 'id.orig_h': '172.16.170.146', 'id.orig_p': 54965, 'id.resp_h': '100.100.2.136', 'id.resp_p': 53, 'proto': 'udp', 'trans_id': 50059, 'rcode': 3, 'rcode_name': 'NXDOMAIN', 'AA': False, 'TC': False, 'RD': False, 'RA': False, 'Z': 0, 'rejected': False}, {'ts': '2022-05-18T05:00:00.897946Z', 'uid': 'CliUxz2edm38ypzbyd', 'id.orig_h': '172.16.170.146', 'id.orig_p': 45332, 'id.resp_h': '100.100.2.138', 'id.resp_p': 53, 'proto': 'udp', 'trans_id': 51533, 'query': '4.240.88.146.in-addr.arpa', 'rcode': 0, 'rcode_name': 'NOERROR', 'AA': False, 'TC': False, 'RD': False, 'RA': True, 'Z': 0, 'answers': ['www.arbor-observatory.com'], 'TTLs': [3600.0], 'rejected': False}, {'ts': '2022-05-19T01:00:26.672051Z', 'uid': 'Co3WSBnrfp2Vvj707', 'id.orig_h': '172.16.170.146', 'id.orig_p': 46786, 'id.resp_h': '100.100.2.136', 'id.resp_p': 53, 'proto': 'udp', 'trans_id': 21835, 'query': 'ap-northeast-1.axt.aliyun.com', 'rcode': 0, 'rcode_name': 'NOERROR', 'AA': True, 'TC': False, 'RD': False, 'RA': True, 'Z': 0, 'answers': ['100.100.0.76'], 'TTLs': [300.0], 'rejected': False}, {'ts': '2022-05-20T03:00:00.583585Z', 'uid': 'CUxzbd1zGXWNrcU07l', 'id.orig_h': '172.16.170.146', 'id.orig_p': 54225, 'id.resp_h': '100.100.2.136', 'id.resp_p': 53, 'proto': 'udp', 'trans_id': 12073, 'rcode': 3, 'rcode_name': 'NXDOMAIN', 'AA': False, 'TC': False, 'RD': False, 'RA': False, 'Z': 0, 'rejected': False}, {'ts': '2022-05-18T05:00:01.015480Z', 'uid': 'CwkH7f34s7pXKnbVh7', 'id.orig_h': '172.16.170.146', 'id.orig_p': 53076, 'id.resp_h': '100.100.2.138', 'id.resp_p': 53, 'proto': 'udp', 'trans_id': 45912, 'rcode': 3, 'rcode_name': 'NXDOMAIN', 'AA': False, 'TC': False, 'RD': False, 'RA': False, 'Z': 0, 'rejected': True}, {'ts': '2022-05-19T01:00:26.672473Z', 'uid': 'CGBxo83oI9cOHUBH2b', 'id.orig_h': '172.16.170.146', 'id.orig_p': 50871, 'id.resp_h': '100.100.2.136', 'id.resp_p': 53, 'proto': 'udp', 'trans_id': 20236, 'rcode': 0, 'rcode_name': 'NOERROR', 'AA': False, 'TC': False, 'RD': False, 'RA': False, 'Z': 0, 'rejected': False}, {'ts': '2022-05-20T03:00:00.697532Z', 'uid': 'CwQjzD4bKpaQKibwS5', 'id.orig_h': '172.16.170.146', 'id.orig_p': 60154, 'id.resp_h': '100.100.2.136', 'id.resp_p': 53, 'proto': 'udp', 'trans_id': 33954, 'rcode': 3, 'rcode_name': 'NXDOMAIN', 'AA': False, 'TC': False, 'RD': False, 'RA': False, 'Z': 0, 'rejected': False}, {'ts': '2022-05-18T05:00:01.206034Z', 'uid': 'CWhMoI1yXzIZNsGyD5', 'id.orig_h': '172.16.170.146', 'id.orig_p': 58805, 'id.resp_h': '100.100.2.138', 'id.resp_p': 53, 'proto': 'udp', 'trans_id': 62612, 'rcode': 3, 'rcode_name': 'NXDOMAIN', 'AA': False, 'TC': False, 'RD': False, 'RA': False, 'Z': 0, 'rejected': False}, {'ts': '2022-05-19T00:00:00.561307Z', 'uid': 'CntG3FFUPkEMxQ75j', 'id.orig_h': '172.16.170.146', 'id.orig_p': 35133, 'id.resp_h': '100.100.2.136', 'id.resp_p': 53, 'proto': 'udp', 'trans_id': 32260, 'query': '223.62.141.209.in-addr.arpa', 'rcode': 0, 'rcode_name': 'NOERROR', 'AA': False, 'TC': False, 'RD': False, 'RA': True, 'Z': 0, 'answers': ['smtp8.tdgeshop.shop'], 'TTLs': [30.0], 'rejected': False}, {'ts': '2022-05-20T03:00:00.877241Z', 'uid': 'CesVcy4su0E8zgg1Sk', 'id.orig_h': '172.16.170.146', 'id.orig_p': 34851, 'id.resp_h': '100.100.2.136', 'id.resp_p': 53, 'proto': 'udp', 'trans_id': 55936, 'rcode': 3, 'rcode_name': 'NXDOMAIN', 'AA': False, 'TC': False, 'RD': False, 'RA': False, 'Z': 0, 'rejected': False}, {'ts': '2022-05-18T05:00:01.325197Z', 'uid': 'C8ib5S1YDgM71FCEHi', 'id.orig_h': '172.16.170.146', 'id.orig_p': 55099, 'id.resp_h': '100.100.2.138', 'id.resp_p': 53, 'proto': 'udp', 'trans_id': 54171, 'rcode': 3, 'rcode_name': 'NXDOMAIN', 'AA': False, 'TC': False, 'RD': False, 'RA': False, 'Z': 0, 'rejected': False}, {'ts': '2022-05-19T00:00:00.565719Z', 'uid': 'CmzN792rsHwpeiahk9', 'id.orig_h': '172.16.170.146', 'id.orig_p': 42980, 'id.resp_h': '100.100.2.136', 'id.resp_p': 53, 'proto': 'udp', 'trans_id': 22411, 'rcode': 3, 'rcode_name': 'NXDOMAIN', 'AA': False, 'TC': False, 'RD': False, 'RA': False, 'Z': 0, 'rejected': False}, {'ts': '2022-05-20T03:00:00.879449Z', 'uid': 'C0qHwvRqB5Jo9wIzb', 'id.orig_h': '172.16.170.146', 'id.orig_p': 45457, 'id.resp_h': '100.100.2.136', 'id.resp_p': 53, 'proto': 'udp', 'trans_id': 33276, 'rcode': 3, 'rcode_name': 'NXDOMAIN', 'AA': False, 'TC': False, 'RD': False, 'RA': False, 'Z': 0, 'rejected': False}, {'ts': '2022-05-18T05:00:01.336855Z', 'uid': 'CHETz040NradJ605Ch', 'id.orig_h': '172.16.170.146', 'id.orig_p': 35192, 'id.resp_h': '100.100.2.138', 'id.resp_p': 53, 'proto': 'udp', 'trans_id': 1832, 'rcode': 3, 'rcode_name': 'NXDOMAIN', 'AA': False, 'TC': False, 'RD': False, 'RA': False, 'Z': 0, 'rejected': False}, {'ts': '2022-05-19T00:00:00.570171Z', 'uid': 'CmYnh51OcFSjHGPWba', 'id.orig_h': '172.16.170.146', 'id.orig_p': 56191, 'id.resp_h': '100.100.2.136', 'id.resp_p': 53, 'proto': 'udp', 'trans_id': 44923, 'rcode': 3, 'rcode_name': 'NXDOMAIN', 'AA': False, 'TC': False, 'RD': False, 'RA': False, 'Z': 0, 'rejected': False}, {'ts': '2022-05-20T03:00:00.883756Z', 'uid': 'CZxD804BBEd5nItd8g', 'id.orig_h': '172.16.170.146', 'id.orig_p': 41182, 'id.resp_h': '100.100.2.136', 'id.resp_p': 53, 'proto': 'udp', 'trans_id': 39755, 'query': '42.180.34.58.in-addr.arpa', 'rcode': 0, 'rcode_name': 'NOERROR', 'AA': False, 'TC': False, 'RD': False, 'RA': True, 'Z': 0, 'answers': ['42.180.34.58.broad.xw.sh.dynamic.163data.com.cn'], 'TTLs': [56779.0], 'rejected': False}, {'ts': '2022-05-18T04:05:00.607223Z', 'uid': 'CEHb3r3pm4obAeOeM1', 'id.orig_h': '172.16.170.146', 'id.orig_p': 56148, 'id.resp_h': '100.100.2.138', 'id.resp_p': 53, 'proto': 'udp', 'trans_id': 30080, 'query': 'aegis.alicdn.com', 'rcode': 0, 'rcode_name': 'NOERROR', 'AA': False, 'TC': False, 'RD': False, 'RA': True, 'Z': 0, 'answers': ['aegis.alicdn.com.danuoyi.tbcache.com', '128.1.157.251', '47.89.66.240', '128.1.157.252', '47.89.66.232'], 'TTLs': [161.0, 27.0, 27.0, 27.0, 27.0], 'rejected': False}, {'ts': '2022-05-19T00:00:00.675575Z', 'uid': 'Ccb5Uj21sLbOFl2Qzh', 'id.orig_h': '172.16.170.146', 'id.orig_p': 53078, 'id.resp_h': '100.100.2.136', 'id.resp_p': 53, 'proto': 'udp', 'trans_id': 943, 'rcode': 3, 'rcode_name': 'NXDOMAIN', 'AA': False, 'TC': False, 'RD': False, 'RA': False, 'Z': 0, 'rejected': False}, {'ts': '2022-05-20T03:00:00.891494Z', 'uid': 'CYlLFVo6qKOUsj8L6', 'id.orig_h': '172.16.170.146', 'id.orig_p': 44952, 'id.resp_h': '100.100.2.136', 'id.resp_p': 53, 'proto': 'udp', 'trans_id': 61778, 'query': '58.220.139.2.in-addr.arpa', 'rcode': 0, 'rcode_name': 'NOERROR', 'AA': False, 'TC': False, 'RD': False, 'RA': True, 'Z': 0, 'answers': ['58.red-2-139-220.staticip.rima-tde.net'], 'TTLs': [125653.0], 'rejected': False}, {'ts': '2022-05-18T04:05:49.434980Z', 'uid': 'CXJIhocbNizzN3aj9', 'id.orig_h': '172.16.170.146', 'id.orig_p': 43096, 'id.resp_h': '100.100.2.138', 'id.resp_p': 53, 'proto': 'udp', 'trans_id': 38087, 'query': 'ap-northeast-1.axt.aliyun.com', 'rcode': 0, 'rcode_name': 'NOERROR', 'AA': True, 'TC': False, 'RD': False, 'RA': True, 'Z': 0, 'answers': ['100.100.0.76'], 'TTLs': [300.0], 'rejected': False}, {'ts': '2022-05-19T00:00:00.715629Z', 'uid': 'CgTnAq22O3JLGwpsa9', 'id.orig_h': '172.16.170.146', 'id.orig_p': 48692, 'id.resp_h': '100.100.2.136', 'id.resp_p': 53, 'proto': 'udp', 'trans_id': 39321, 'rcode': 3, 'rcode_name': 'NXDOMAIN', 'AA': False, 'TC': False, 'RD': False, 'RA': False, 'Z': 0, 'rejected': True}, {'ts': '2022-05-20T03:00:00.895403Z', 'uid': 'CkLFcet1gC1hZ7oL6', 'id.orig_h': '172.16.170.146', 'id.orig_p': 36496, 'id.resp_h': '100.100.2.136', 'id.resp_p': 53, 'proto': 'udp', 'trans_id': 36348, 'rcode': 3, 'rcode_name': 'NXDOMAIN', 'AA': False, 'TC': False, 'RD': False, 'RA': False, 'Z': 0, 'rejected': True}, {'ts': '2022-05-18T04:10:42.499401Z', 'uid': 'Cpwd2C2O0SuiACzi4g', 'id.orig_h': '172.16.170.146', 'id.orig_p': 32873, 'id.resp_h': '100.100.2.138', 'id.resp_p': 53, 'proto': 'udp', 'trans_id': 46088, 'rcode': 0, 'rcode_name': 'NOERROR', 'AA': False, 'TC': False, 'RD': False, 'RA': False, 'Z': 0, 'rejected': False}, {'ts': '2022-05-19T00:00:00.817176Z', 'uid': 'CEvpO23j9uf0XD2IXi', 'id.orig_h': '172.16.170.146', 'id.orig_p': 44925, 'id.resp_h': '100.100.2.136', 'id.resp_p': 53, 'proto': 'udp', 'trans_id': 41674, 'rcode': 3, 'rcode_name': 'NXDOMAIN', 'AA': False, 'TC': False, 'RD': False, 'RA': False, 'Z': 0, 'rejected': False}, {'ts': '2022-05-20T03:00:01.173505Z', 'uid': 'Cawfbg3PpQQ4P0NhUa', 'id.orig_h': '172.16.170.146', 'id.orig_p': 60283, 'id.resp_h': '100.100.2.136', 'id.resp_p': 53, 'proto': 'udp', 'trans_id': 31699, 'query': '12.52.16.190.in-addr.arpa', 'rcode': 0, 'rcode_name': 'NOERROR', 'AA': False, 'TC': False, 'RD': False, 'RA': True, 'Z': 0, 'answers': ['12-52-16-190.fibertel.com.ar'], 'TTLs': [86400.0], 'rejected': False}, {'ts': '2022-05-18T04:11:43.509570Z', 'uid': 'CFuxnt1wvbBlTXQQd', 'id.orig_h': '172.16.170.146', 'id.orig_p': 58624, 'id.resp_h': '100.100.2.138', 'id.resp_p': 53, 'proto': 'udp', 'trans_id': 48543, 'query': 'ap-northeast-1.axt.aliyun.com', 'rcode': 0, 'rcode_name': 'NOERROR', 'AA': True, 'TC': False, 'RD': False, 'RA': True, 'Z': 0, 'answers': ['100.100.0.76'], 'TTLs': [300.0], 'rejected': False}, {'ts': '2022-05-19T00:00:00.978180Z', 'uid': 'CyZyg52YRNt1bknlse', 'id.orig_h': '172.16.170.146', 'id.orig_p': 45178, 'id.resp_h': '100.100.2.136', 'id.resp_p': 53, 'proto': 'udp', 'trans_id': 62393, 'rcode': 3, 'rcode_name': 'NXDOMAIN', 'AA': False, 'TC': False, 'RD': False, 'RA': False, 'Z': 0, 'rejected': False}, {'ts': '2022-05-20T03:00:01.291783Z', 'uid': 'C1aH3ipk8iUizqVrh', 'id.orig_h': '172.16.170.146', 'id.orig_p': 53833, 'id.resp_h': '100.100.2.136', 'id.resp_p': 53, 'proto': 'udp', 'trans_id': 8954, 'query': '64.154.189.206.in-addr.arpa', 'rcode': 0, 'rcode_name': 'NOERROR', 'AA': False, 'TC': False, 'RD': False, 'RA': True, 'Z': 0, 'answers': ['thecustodian.app'], 'TTLs': [1418.0], 'rejected': False}, {'ts': '2022-05-18T04:12:25.154524Z', 'uid': 'CVzcUY31SUgxcfrbv7', 'id.orig_h': '193.124.7.9', 'id.orig_p': 45052, 'id.resp_h': '172.16.170.146', 'id.resp_p': 53, 'proto': 'udp', 'trans_id': 17767, 'query': 'xerox.com', 'qclass': 1, 'qclass_name': 'C_INTERNET', 'qtype': 255, 'qtype_name': '*', 'AA': False, 'TC': False, 'RD': True, 'RA': False, 'Z': 0, 'rejected': False}, {'ts': '2022-05-19T00:00:01.152525Z', 'uid': 'CI4Yq72XnRDbQuUbR7', 'id.orig_h': '172.16.170.146', 'id.orig_p': 48805, 'id.resp_h': '100.100.2.136', 'id.resp_p': 53, 'proto': 'udp', 'trans_id': 49687, 'rcode': 3, 'rcode_name': 'NXDOMAIN', 'AA': False, 'TC': False, 'RD': False, 'RA': False, 'Z': 0, 'rejected': False}, {'ts': '2022-05-20T03:00:01.296793Z', 'uid': 'Ck6Dc13HvT9XmjIrBj', 'id.orig_h': '172.16.170.146', 'id.orig_p': 40679, 'id.resp_h': '100.100.2.136', 'id.resp_p': 53, 'proto': 'udp', 'trans_id': 57473, 'rcode': 3, 'rcode_name': 'NXDOMAIN', 'AA': False, 'TC': False, 'RD': False, 'RA': False, 'Z': 0, 'rejected': False}, {'ts': '2022-05-18T04:17:07.129770Z', 'uid': 'CBLZTu2pWbNSeOzR0a', 'id.orig_h': '104.206.128.14', 'id.orig_p': 56276, 'id.resp_h': '172.16.170.146', 'id.resp_p': 53, 'proto': 'udp', 'trans_id': 13551, 'query': 'version.bind', 'qclass': 3, 'qclass_name': 'C_CHAOS', 'qtype': 16, 'qtype_name': 'TXT', 'AA': False, 'TC': False, 'RD': True, 'RA': False, 'Z': 0, 'rejected': False}, {'ts': '2022-05-19T00:00:01.157716Z', 'uid': 'CipRqQ2TA95Lk8mv53', 'id.orig_h': '172.16.170.146', 'id.orig_p': 42884, 'id.resp_h': '100.100.2.136', 'id.resp_p': 53, 'proto': 'udp', 'trans_id': 58135, 'rcode': 3, 'rcode_name': 'NXDOMAIN', 'AA': False, 'TC': False, 'RD': False, 'RA': False, 'Z': 0, 'rejected': False}, {'ts': '2022-05-20T03:00:01.414234Z', 'uid': 'C1UNMz4NXVN2nG60g', 'id.orig_h': '172.16.170.146', 'id.orig_p': 33342, 'id.resp_h': '100.100.2.136', 'id.resp_p': 53, 'proto': 'udp', 'trans_id': 11853, 'rcode': 3, 'rcode_name': 'NXDOMAIN', 'AA': False, 'TC': False, 'RD': False, 'RA': False, 'Z': 0, 'rejected': False}, {'ts': '2022-05-18T04:17:25.588436Z', 'uid': 'CNUR8o26XNiSdcGQ81', 'id.orig_h': '172.16.170.146', 'id.orig_p': 50032, 'id.resp_h': '100.100.2.138', 'id.resp_p': 53, 'proto': 'udp', 'trans_id': 62478, 'query': 'ap-northeast-1.axt.aliyun.com', 'rcode': 0, 'rcode_name': 'NOERROR', 'AA': True, 'TC': False, 'RD': False, 'RA': True, 'Z': 0, 'answers': ['100.100.0.76'], 'TTLs': [300.0], 'rejected': False}, {'ts': '2022-05-19T00:00:01.259913Z', 'uid': 'CnrCDi2PCNWQ1R1swk', 'id.orig_h': '172.16.170.146', 'id.orig_p': 36723, 'id.resp_h': '100.100.2.136', 'id.resp_p': 53, 'proto': 'udp', 'trans_id': 36789, 'rcode': 3, 'rcode_name': 'NXDOMAIN', 'AA': False, 'TC': False, 'RD': False, 'RA': False, 'Z': 0, 'rejected': False}, {'ts': '2022-05-20T03:00:01.419123Z', 'uid': 'CBwzhm1jhtlqGGl7Yh', 'id.orig_h': '172.16.170.146', 'id.orig_p': 51038, 'id.resp_h': '100.100.2.136', 'id.resp_p': 53, 'proto': 'udp', 'trans_id': 37856, 'rcode': 3, 'rcode_name': 'NXDOMAIN', 'AA': False, 'TC': False, 'RD': False, 'RA': False, 'Z': 0, 'rejected': False}, {'ts': '2022-05-18T04:21:12.646394Z', 'uid': 'CrfwBEvXMtx7nEGng', 'id.orig_h': '172.16.170.146', 'id.orig_p': 51595, 'id.resp_h': '100.100.2.138', 'id.resp_p': 53, 'proto': 'udp', 'trans_id': 23376, 'rcode': 0, 'rcode_name': 'NOERROR', 'AA': False, 'TC': False, 'RD': False, 'RA': False, 'Z': 0, 'rejected': False}, {'ts': '2022-05-19T00:00:01.440551Z', 'uid': 'C6P98I1DYgdNPAj971', 'id.orig_h': '172.16.170.146', 'id.orig_p': 45989, 'id.resp_h': '100.100.2.136', 'id.resp_p': 53, 'proto': 'udp', 'trans_id': 27342, 'rcode': 3, 'rcode_name': 'NXDOMAIN', 'AA': False, 'TC': False, 'RD': False, 'RA': False, 'Z': 0, 'rejected': False}, {'ts': '2022-05-20T03:00:01.534681Z', 'uid': 'C6QeKT2U0jl4t2bPyb', 'id.orig_h': '172.16.170.146', 'id.orig_p': 41085, 'id.resp_h': '100.100.2.136', 'id.resp_p': 53, 'proto': 'udp', 'trans_id': 13353, 'rcode': 3, 'rcode_name': 'NXDOMAIN', 'AA': False, 'TC': False, 'RD': False, 'RA': False, 'Z': 0, 'rejected': False}, {'ts': '2022-05-18T04:23:12.666622Z', 'uid': 'CHcJqY26qt3zVTzepk', 'id.orig_h': '172.16.170.146', 'id.orig_p': 33476, 'id.resp_h': '100.100.2.138', 'id.resp_p': 53, 'proto': 'udp', 'trans_id': 46770, 'query': 'ap-northeast-1.axt.aliyun.com', 'rcode': 0, 'rcode_name': 'NOERROR', 'AA': True, 'TC': False, 'RD': False, 'RA': True, 'Z': 0, 'answers': ['100.100.0.76'], 'TTLs': [300.0], 'rejected': False}, {'ts': '2022-05-19T00:00:01.445548Z', 'uid': 'ChfTiRHpspcQL4hk6', 'id.orig_h': '172.16.170.146', 'id.orig_p': 49125, 'id.resp_h': '100.100.2.136', 'id.resp_p': 53, 'proto': 'udp', 'trans_id': 4395, 'rcode': 3, 'rcode_name': 'NXDOMAIN', 'AA': False, 'TC': False, 'RD': False, 'RA': False, 'Z': 0, 'rejected': False}, {'ts': '2022-05-20T03:00:01.539784Z', 'uid': 'C1JunB4jrIbtYfJ7k7', 'id.orig_h': '172.16.170.146', 'id.orig_p': 41824, 'id.resp_h': '100.100.2.136', 'id.resp_p': 53, 'proto': 'udp', 'trans_id': 57571, 'rcode': 3, 'rcode_name': 'NXDOMAIN', 'AA': False, 'TC': False, 'RD': False, 'RA': False, 'Z': 0, 'rejected': False}, {'ts': '2022-05-18T04:00:02.308198Z', 'uid': 'CRRNLr2YQx6dXGSlm5', 'id.orig_h': '172.16.170.146', 'id.orig_p': 57270, 'id.resp_h': '100.100.2.138', 'id.resp_p': 53, 'proto': 'udp', 'trans_id': 45927, 'rcode': 3, 'rcode_name': 'NXDOMAIN', 'AA': False, 'TC': False, 'RD': False, 'RA': False, 'Z': 0, 'rejected': False}, {'ts': '2022-05-19T00:00:01.486089Z', 'uid': 'CUKMof4QL4ehUjI1X8', 'id.orig_h': '172.16.170.146', 'id.orig_p': 57733, 'id.resp_h': '100.100.2.136', 'id.resp_p': 53, 'proto': 'udp', 'trans_id': 61866, 'rcode': 3, 'rcode_name': 'NXDOMAIN', 'AA': False, 'TC': False, 'RD': False, 'RA': False, 'Z': 0, 'rejected': True}, {'ts': '2022-05-20T03:00:15.253876Z', 'uid': 'CnILZE1nE34Gmjywf4', 'id.orig_h': '172.16.170.146', 'id.orig_p': 35765, 'id.resp_h': '100.100.2.136', 'id.resp_p': 53, 'proto': 'udp', 'trans_id': 58721, 'query': 'update2.aegis.aliyun.com', 'rcode': 0, 'rcode_name': 'NOERROR', 'AA': False, 'TC': False, 'RD': False, 'RA': True, 'Z': 0, 'answers': ['100.100.167.125', '100.100.167.126'], 'TTLs': [300.0, 300.0], 'rejected': False}, {'ts': '2022-05-18T04:00:02.344727Z', 'uid': 'CP6uRx4hY1lamIvIEc', 'id.orig_h': '172.16.170.146', 'id.orig_p': 59010, 'id.resp_h': '100.100.2.138', 'id.resp_p': 53, 'proto': 'udp', 'trans_id': 35235, 'query': 'ap-northeast-1.axt.aliyun.com', 'rcode': 0, 'rcode_name': 'NOERROR', 'AA': True, 'TC': False, 'RD': False, 'RA': True, 'Z': 0, 'answers': ['100.100.0.76'], 'TTLs': [300.0], 'rejected': False}, {'ts': '2022-05-19T00:00:01.491502Z', 'uid': 'CtXNqG43fKo0SFHq94', 'id.orig_h': '172.16.170.146', 'id.orig_p': 58564, 'id.resp_h': '100.100.2.136', 'id.resp_p': 53, 'proto': 'udp', 'trans_id': 55961, 'rcode': 3, 'rcode_name': 'NXDOMAIN', 'AA': False, 'TC': False, 'RD': False, 'RA': False, 'Z': 0, 'rejected': False}, {'ts': '2022-05-20T03:01:58.917494Z', 'uid': 'CDtANP2JV63JKxWjVb', 'id.orig_h': '172.16.170.146', 'id.orig_p': 53738, 'id.resp_h': '100.100.2.136', 'id.resp_p': 53, 'proto': 'udp', 'trans_id': 16409, 'query': 'ap-northeast-1.axt.aliyun.com', 'rcode': 0, 'rcode_name': 'NOERROR', 'AA': False, 'TC': False, 'RD': False, 'RA': True, 'Z': 0, 'answers': ['100.100.0.76'], 'TTLs': [300.0], 'rejected': False}, {'ts': '2022-05-18T04:00:02.415670Z', 'uid': 'CNhqRb12oFCgL9yHSh', 'id.orig_h': '172.16.170.146', 'id.orig_p': 55627, 'id.resp_h': '100.100.2.138', 'id.resp_p': 53, 'proto': 'udp', 'trans_id': 24243, 'rcode': 3, 'rcode_name': 'NXDOMAIN', 'AA': False, 'TC': False, 'RD': False, 'RA': False, 'Z': 0, 'rejected': False}, {'ts': '2022-05-19T00:00:01.847103Z', 'uid': 'CyN7hb1xSBT2kOmjFl', 'id.orig_h': '172.16.170.146', 'id.orig_p': 56325, 'id.resp_h': '100.100.2.136', 'id.resp_p': 53, 'proto': 'udp', 'trans_id': 49651, 'rcode': 3, 'rcode_name': 'NXDOMAIN', 'AA': False, 'TC': False, 'RD': False, 'RA': False, 'Z': 0, 'rejected': False}, {'ts': '2022-05-20T03:04:02.939127Z', 'uid': 'CWwuA22g5LTEN8LOik', 'id.orig_h': '172.16.170.146', 'id.orig_p': 53176, 'id.resp_h': '100.100.2.136', 'id.resp_p': 53, 'proto': 'udp', 'trans_id': 3462, 'rcode': 0, 'rcode_name': 'NOERROR', 'AA': False, 'TC': False, 'RD': False, 'RA': False, 'Z': 0, 'rejected': False}, {'ts': '2022-05-18T04:00:02.536206Z', 'uid': 'CCoVRm3pHIAGrpBYza', 'id.orig_h': '172.16.170.146', 'id.orig_p': 48687, 'id.resp_h': '100.100.2.138', 'id.resp_p': 53, 'proto': 'udp', 'trans_id': 11667, 'rcode': 3, 'rcode_name': 'NXDOMAIN', 'AA': False, 'TC': False, 'RD': False, 'RA': False, 'Z': 0, 'rejected': False}, {'ts': '2022-05-19T00:00:01.940754Z', 'uid': 'CtYpnQ2ta57ph4ZW1l', 'id.orig_h': '172.16.170.146', 'id.orig_p': 43332, 'id.resp_h': '100.100.2.136', 'id.resp_p': 53, 'proto': 'udp', 'trans_id': 24206, 'rcode': 3, 'rcode_name': 'NXDOMAIN', 'AA': False, 'TC': False, 'RD': False, 'RA': False, 'Z': 0, 'rejected': False}, {'ts': '2022-05-20T03:05:12.013877Z', 'uid': 'CkXTF82HvxndCWlQbe', 'id.orig_h': '172.16.170.146', 'id.orig_p': 41298, 'id.resp_h': '100.100.2.136', 'id.resp_p': 53, 'proto': 'udp', 'trans_id': 5003, 'rcode': 0, 'rcode_name': 'NOERROR', 'AA': False, 'TC': False, 'RD': False, 'RA': False, 'Z': 0, 'rejected': False}, {'ts': '2022-05-18T04:00:02.657216Z', 'uid': 'CrY09X26mOV3HueZXg', 'id.orig_h': '172.16.170.146', 'id.orig_p': 52638, 'id.resp_h': '100.100.2.138', 'id.resp_p': 53, 'proto': 'udp', 'trans_id': 16614, 'rcode': 3, 'rcode_name': 'NXDOMAIN', 'AA': False, 'TC': False, 'RD': False, 'RA': False, 'Z': 0, 'rejected': False}, {'ts': '2022-05-19T00:00:02.214367Z', 'uid': 'CTx57UVPWB2eFLp29', 'id.orig_h': '172.16.170.146', 'id.orig_p': 45788, 'id.resp_h': '100.100.2.136', 'id.resp_p': 53, 'proto': 'udp', 'trans_id': 64489, 'rcode': 3, 'rcode_name': 'NXDOMAIN', 'AA': False, 'TC': False, 'RD': False, 'RA': False, 'Z': 0, 'rejected': False}, {'ts': '2022-05-20T03:05:12.013532Z', 'uid': 'CHvnTC41zKHbRWQEYj', 'id.orig_h': '172.16.170.146', 'id.orig_p': 51253, 'id.resp_h': '100.100.2.136', 'id.resp_p': 53, 'proto': 'udp', 'trans_id': 13186, 'query': 'ntp6.cloud.aliyuncs.com', 'rcode': 0, 'rcode_name': 'NOERROR', 'AA': True, 'TC': False, 'RD': False, 'RA': True, 'Z': 0, 'answers': ['10.143.0.46'], 'TTLs': [600.0], 'rejected': False}, {'ts': '2022-05-18T04:00:02.858637Z', 'uid': 'CISNDP2T5YQzZAlKv8', 'id.orig_h': '172.16.170.146', 'id.orig_p': 50497, 'id.resp_h': '100.100.2.138', 'id.resp_p': 53, 'proto': 'udp', 'trans_id': 34620, 'rcode': 3, 'rcode_name': 'NXDOMAIN', 'AA': False, 'TC': False, 'RD': False, 'RA': False, 'Z': 0, 'rejected': False}, {'ts': '2022-05-19T01:06:16.751182Z', 'uid': 'Cou8FZ2ekA9w2Q5QAk', 'id.orig_h': '172.16.170.146', 'id.orig_p': 47664, 'id.resp_h': '100.100.2.136', 'id.resp_p': 53, 'proto': 'udp', 'trans_id': 47682, 'query': 'ap-northeast-1.axt.aliyun.com', 'rcode': 0, 'rcode_name': 'NOERROR', 'AA': True, 'TC': False, 'RD': False, 'RA': True, 'Z': 0, 'answers': ['100.100.0.76'], 'TTLs': [300.0], 'rejected': False}, {'ts': '2022-05-20T03:07:03.981454Z', 'uid': 'CiJKoa1SkvHgthUbRb', 'id.orig_h': '172.16.170.146', 'id.orig_p': 34001, 'id.resp_h': '100.100.2.136', 'id.resp_p': 53, 'proto': 'udp', 'trans_id': 6014, 'query': 'ap-northeast-1.axt.aliyun.com', 'rcode': 0, 'rcode_name': 'NOERROR', 'AA': True, 'TC': False, 'RD': False, 'RA': True, 'Z': 0, 'answers': ['100.100.0.76'], 'TTLs': [300.0], 'rejected': False}, {'ts': '2022-05-18T04:00:02.868775Z', 'uid': 'CcZHMD2jNx7HCv3v05', 'id.orig_h': '172.16.170.146', 'id.orig_p': 39176, 'id.resp_h': '100.100.2.138', 'id.resp_p': 53, 'proto': 'udp', 'trans_id': 10858, 'rcode': 3, 'rcode_name': 'NXDOMAIN', 'AA': False, 'TC': False, 'RD': False, 'RA': False, 'Z': 0, 'rejected': True}, {'ts': '2022-05-19T01:11:13.819007Z', 'uid': 'C6363X1bC8nQ75zMJ', 'id.orig_h': '172.16.170.146', 'id.orig_p': 34869, 'id.resp_h': '100.100.2.136', 'id.resp_p': 53, 'proto': 'udp', 'trans_id': 17258, 'rcode': 0, 'rcode_name': 'NOERROR', 'AA': False, 'TC': False, 'RD': False, 'RA': False, 'Z': 0, 'rejected': False}, {'ts': '2022-05-20T03:07:40.285217Z', 'uid': 'CdVEyU2CGoPWAEgbUe', 'id.orig_h': '103.178.237.26', 'id.orig_p': 52738, 'id.resp_h': '172.16.170.146', 'id.resp_p': 5353, 'proto': 'udp', 'trans_id': 0, 'query': '_services._dns-sd._udp.local', 'qclass': 1, 'qclass_name': 'C_INTERNET', 'qtype': 12, 'qtype_name': 'PTR', 'AA': False, 'TC': False, 'RD': False, 'RA': False, 'Z': 0, 'rejected': False}, {'ts': '2022-05-18T04:00:02.989356Z', 'uid': 'CBet9l462JwPLxh4g4', 'id.orig_h': '172.16.170.146', 'id.orig_p': 48857, 'id.resp_h': '100.100.2.138', 'id.resp_p': 53, 'proto': 'udp', 'trans_id': 8053, 'rcode': 3, 'rcode_name': 'NXDOMAIN', 'AA': False, 'TC': False, 'RD': False, 'RA': False, 'Z': 0, 'rejected': False}, {'ts': '2022-05-19T01:11:48.372447Z', 'uid': 'CxLJDC3wYP5zxaK7Vb', 'id.orig_h': '205.210.31.24', 'id.orig_p': 51447, 'id.resp_h': '172.16.170.146', 'id.resp_p': 53, 'proto': 'udp', 'trans_id': 13551, 'query': 'version.bind', 'qclass': 3, 'qclass_name': 'C_CHAOS', 'qtype': 16, 'qtype_name': 'TXT', 'AA': False, 'TC': False, 'RD': True, 'RA': False, 'Z': 0, 'rejected': False}, {'ts': '2022-05-20T04:00:00.425728Z', 'uid': 'CNeI3E4YTslwCAERtj', 'id.orig_h': '172.16.170.146', 'id.orig_p': 45742, 'id.resp_h': '100.100.2.136', 'id.resp_p': 53, 'proto': 'udp', 'trans_id': 27692, 'rcode': 3, 'rcode_name': 'NXDOMAIN', 'AA': False, 'TC': False, 'RD': False, 'RA': False, 'Z': 0, 'rejected': False}, {'ts': '2022-05-18T04:28:16.745779Z', 'uid': 'CjwAMj1OYSCeUd71J2', 'id.orig_h': '172.16.170.146', 'id.orig_p': 52690, 'id.resp_h': '100.100.2.138', 'id.resp_p': 53, 'proto': 'udp', 'trans_id': 4668, 'query': 'ap-northeast-1.axt.aliyun.com', 'rcode': 0, 'rcode_name': 'NOERROR', 'AA': True, 'TC': False, 'RD': False, 'RA': True, 'Z': 0, 'answers': ['100.100.0.76'], 'TTLs': [300.0], 'rejected': False}, {'ts': '2022-05-19T01:12:09.828399Z', 'uid': 'CD0qNl2o8NiFd3Ajf2', 'id.orig_h': '172.16.170.146', 'id.orig_p': 32941, 'id.resp_h': '100.100.2.136', 'id.resp_p': 53, 'proto': 'udp', 'trans_id': 54656, 'query': 'ap-northeast-1.axt.aliyun.com', 'rcode': 0, 'rcode_name': 'NOERROR', 'AA': True, 'TC': False, 'RD': False, 'RA': True, 'Z': 0, 'answers': ['100.100.0.76'], 'TTLs': [300.0], 'rejected': False}, {'ts': '2022-05-20T04:00:00.913843Z', 'uid': 'CPryrA1vKoLsCO5OK7', 'id.orig_h': '172.16.170.146', 'id.orig_p': 47382, 'id.resp_h': '100.100.2.136', 'id.resp_p': 53, 'proto': 'udp', 'trans_id': 44907, 'rcode': 3, 'rcode_name': 'NXDOMAIN', 'AA': False, 'TC': False, 'RD': False, 'RA': False, 'Z': 0, 'rejected': False}, {'ts': '2022-05-18T04:31:22.780407Z', 'uid': 'CxGMUdYJGoUyna744', 'id.orig_h': '172.16.170.146', 'id.orig_p': 49318, 'id.resp_h': '100.100.2.138', 'id.resp_p': 53, 'proto': 'udp', 'trans_id': 60052, 'rcode': 0, 'rcode_name': 'NOERROR', 'AA': False, 'TC': False, 'RD': False, 'RA': False, 'Z': 0, 'rejected': False}, {'ts': '2022-05-19T01:12:52.879606Z', 'uid': 'CoeYL1400pzgxsYa8i', 'id.orig_h': '172.16.170.146', 'id.orig_p': 44794, 'id.resp_h': '100.100.2.136', 'id.resp_p': 53, 'proto': 'udp', 'trans_id': 48763, 'query': 'update2.aegis.aliyun.com', 'rcode': 0, 'rcode_name': 'NOERROR', 'AA': True, 'TC': False, 'RD': False, 'RA': True, 'Z': 0, 'answers': ['100.100.167.126', '100.100.167.125'], 'TTLs': [300.0, 300.0], 'rejected': False}, {'ts': '2022-05-20T04:00:06.455556Z', 'uid': 'C8Sz973lg7OUyQKczg', 'id.orig_h': '172.16.170.146', 'id.orig_p': 32872, 'id.resp_h': '100.100.2.138', 'id.resp_p': 53, 'proto': 'udp', 'trans_id': 50935, 'query': '12.52.16.190.in-addr.arpa', 'rcode': 0, 'rcode_name': 'NOERROR', 'AA': False, 'TC': False, 'RD': False, 'RA': True, 'Z': 0, 'answers': ['12-52-16-190.fibertel.com.ar'], 'TTLs': [86400.0], 'rejected': False}, {'ts': '2022-05-18T04:32:28.344412Z', 'uid': 'CdT8uF0HjhvKvFF08', 'id.orig_h': '172.16.170.146', 'id.orig_p': 37494, 'id.resp_h': '100.100.2.138', 'id.resp_p': 53, 'proto': 'udp', 'trans_id': 61641, 'rcode': 0, 'rcode_name': 'NOERROR', 'AA': False, 'TC': False, 'RD': False, 'RA': False, 'Z': 0, 'rejected': False}, {'ts': '2022-05-19T01:13:43.378501Z', 'uid': 'CWykO8U679DobQnwf', 'id.orig_h': '172.16.170.146', 'id.orig_p': 53340, 'id.resp_h': '100.100.2.136', 'id.resp_p': 53, 'proto': 'udp', 'trans_id': 14894, 'rcode': 0, 'rcode_name': 'NOERROR', 'AA': False, 'TC': False, 'RD': False, 'RA': False, 'Z': 0, 'rejected': False}, {'ts': '2022-05-20T04:00:06.466894Z', 'uid': 'CETznT1foUduheh6Ah', 'id.orig_h': '172.16.170.146', 'id.orig_p': 37335, 'id.resp_h': '100.100.2.138', 'id.resp_p': 53, 'proto': 'udp', 'trans_id': 15022, 'query': '80.71.67.171.in-addr.arpa', 'rcode': 0, 'rcode_name': 'NOERROR', 'AA': False, 'TC': False, 'RD': False, 'RA': True, 'Z': 0, 'answers': ['research.esrg.stanford.edu'], 'TTLs': [79200.0], 'rejected': False}, {'ts': '2022-05-18T04:32:28.344063Z', 'uid': 'CAfPhz3n5VDStbPmui', 'id.orig_h': '172.16.170.146', 'id.orig_p': 38138, 'id.resp_h': '100.100.2.138', 'id.resp_p': 53, 'proto': 'udp', 'trans_id': 9478, 'query': 'ntp3.cloud.aliyuncs.com', 'rcode': 0, 'rcode_name': 'NOERROR', 'AA': True, 'TC': False, 'RD': False, 'RA': True, 'Z': 0, 'answers': ['10.143.33.51'], 'TTLs': [600.0], 'rejected': False}, {'ts': '2022-05-19T01:13:43.378135Z', 'uid': 'CPh3Th2WpRLXsQcYX3', 'id.orig_h': '172.16.170.146', 'id.orig_p': 51730, 'id.resp_h': '100.100.2.136', 'id.resp_p': 53, 'proto': 'udp', 'trans_id': 12824, 'query': 'ntp6.cloud.aliyuncs.com', 'rcode': 0, 'rcode_name': 'NOERROR', 'AA': True, 'TC': False, 'RD': False, 'RA': True, 'Z': 0, 'answers': ['10.143.0.46'], 'TTLs': [600.0], 'rejected': False}, {'ts': '2022-05-20T04:00:07.025054Z', 'uid': 'CavAQx2mnz21D7xhv', 'id.orig_h': '172.16.170.146', 'id.orig_p': 41594, 'id.resp_h': '100.100.2.138', 'id.resp_p': 53, 'proto': 'udp', 'trans_id': 40723, 'query': '40.71.67.171.in-addr.arpa', 'rcode': 0, 'rcode_name': 'NOERROR', 'AA': False, 'TC': False, 'RD': False, 'RA': True, 'Z': 0, 'answers': ['research.esrg.stanford.edu'], 'TTLs': [86400.0], 'rejected': False}, {'ts': '2022-05-18T04:33:16.803053Z', 'uid': 'CM2Ys21fjEdcJwMOCc', 'id.orig_h': '172.16.170.146', 'id.orig_p': 32791, 'id.resp_h': '100.100.2.138', 'id.resp_p': 53, 'proto': 'udp', 'trans_id': 48207, 'query': 'ap-northeast-1.axt.aliyun.com', 'rcode': 0, 'rcode_name': 'NOERROR', 'AA': True, 'TC': False, 'RD': False, 'RA': True, 'Z': 0, 'answers': ['100.100.0.76'], 'TTLs': [300.0], 'rejected': False}, {'ts': '2022-05-19T01:17:12.891266Z', 'uid': 'CLcrPGNgkcVrtLUh9', 'id.orig_h': '172.16.170.146', 'id.orig_p': 36498, 'id.resp_h': '100.100.2.136', 'id.resp_p': 53, 'proto': 'udp', 'trans_id': 2610, 'query': 'ap-northeast-1.axt.aliyun.com', 'rcode': 0, 'rcode_name': 'NOERROR', 'AA': True, 'TC': False, 'RD': False, 'RA': True, 'Z': 0, 'answers': ['100.100.0.76'], 'TTLs': [300.0], 'rejected': False}, {'ts': '2022-05-20T04:00:07.144401Z', 'uid': 'CS0Mil2Bx2ctbYrPMh', 'id.orig_h': '172.16.170.146', 'id.orig_p': 37579, 'id.resp_h': '100.100.2.138', 'id.resp_p': 53, 'proto': 'udp', 'trans_id': 52041, 'rcode': 3, 'rcode_name': 'NXDOMAIN', 'AA': False, 'TC': False, 'RD': False, 'RA': False, 'Z': 0, 'rejected': False}, {'ts': '2022-05-18T03:53:18.290981Z', 'uid': 'CgVQFXDaK51JRIY6b', 'id.orig_h': '172.16.170.146', 'id.orig_p': 51735, 'id.resp_h': '100.100.2.136', 'id.resp_p': 53, 'proto': 'udp', 'trans_id': 51947, 'query': 'ifconfig.co', 'rcode': 0, 'rcode_name': 'NOERROR', 'AA': False, 'TC': False, 'RD': False, 'RA': True, 'Z': 0, 'answers': ['172.67.133.228', '104.21.25.86'], 'TTLs': [300.0, 300.0], 'rejected': False}, {'ts': '2022-05-19T01:21:16.946618Z', 'uid': 'CzGCEj2LF2yHrYL1tj', 'id.orig_h': '172.16.170.146', 'id.orig_p': 47292, 'id.resp_h': '100.100.2.136', 'id.resp_p': 53, 'proto': 'udp', 'trans_id': 24359, 'rcode': 0, 'rcode_name': 'NOERROR', 'AA': False, 'TC': False, 'RD': False, 'RA': False, 'Z': 0, 'rejected': False}, {'ts': '2022-05-20T04:00:07.148499Z', 'uid': 'Ce92d02bP8mIW6nBpa', 'id.orig_h': '172.16.170.146', 'id.orig_p': 38330, 'id.resp_h': '100.100.2.138', 'id.resp_p': 53, 'proto': 'udp', 'trans_id': 9416, 'rcode': 3, 'rcode_name': 'NXDOMAIN', 'AA': False, 'TC': False, 'RD': False, 'RA': False, 'Z': 0, 'rejected': False}, {'ts': '2022-05-18T03:54:24.989744Z', 'uid': 'CYZ611MsSWhJxFYAk', 'id.orig_h': '172.16.170.146', 'id.orig_p': 43114, 'id.resp_h': '100.100.2.136', 'id.resp_p': 53, 'proto': 'udp', 'trans_id': 14142, 'query': 'geoip.elastic.co', 'rcode': 0, 'rcode_name': 'NOERROR', 'AA': False, 'TC': False, 'RD': False, 'RA': True, 'Z': 0, 'answers': ['104.154.207.153'], 'TTLs': [300.0], 'rejected': False}] \n"
     ]
    }
   ],
   "source": [
    "import json\n",
    "from pprint import pprint\n",
    "from collections import OrderedDict\n",
    "\n",
    "# 使用Scan查询所有数据. \n",
    "rel = scan(client=es,             \n",
    "            query=query,                                     \n",
    "            scroll='1m',\n",
    "            index='zeek-*',\n",
    "            raise_on_error=True,\n",
    "            preserve_order=False,\n",
    "            clear_scroll=True)\n",
    "temp_list = []\n",
    "temp_dict = {}\n",
    "# 将相应结果保存到列表.\n",
    "for i in rel:\n",
    "    result = list(rel)\n",
    "    temp = []\n",
    "\n",
    "# 我们只需要“_source”，它包含所有必需的字段。\n",
    "    for hit in result:\n",
    "        temp.append(hit['_source'])\n",
    "        M=[]\n",
    "        \n",
    "#     # Create a dataframe.\n",
    "#       df = pd.DataFrame(temp)\n",
    "#     return df\n",
    "\n",
    "    #统计命中数hits  \n",
    "    for i in range(len(temp)): \n",
    "        n=temp[i].copy()  \n",
    "        n[\"hits\"]=temp.count(temp[i])\n",
    "        if not n in M:\n",
    "            M.append(n)\n",
    "\n",
    "    \n",
    "    #换行打印出字典信息\n",
    "    #         print(M[i], '\\n', end=\"\")\n",
    "    # for i in range(len(M))\n",
    "    c = 0\n",
    "    # 目前一共捕获131条，暂时取120条\n",
    "    while c<120:\n",
    "        event_dict = M[c]['event']\n",
    "        jsondict_dict = event_dict['original']\n",
    "        # 把jsondict_dict（json，即str格式）再转一次json格式获得字典格式的数据\n",
    "        original_dict = json.loads(jsondict_dict)\n",
    "        temp_list.append(original_dict)\n",
    "#         print(type(original_dict))\n",
    "#         print(original_dict, '\\n', end=\"\")\n",
    "        c = c+1\n",
    "    print(temp_list, '\\n', end=\"\")\n",
    "        "
   ]
  },
  {
   "cell_type": "code",
   "execution_count": 32,
   "metadata": {},
   "outputs": [
    {
     "name": "stdout",
     "output_type": "stream",
     "text": [
      "Read in 120 Rows...\n",
      "                            ts                 uid       id.orig_h  id.orig_p  \\\n",
      "0  2022-05-19T01:00:01.739026Z  Cs61Af19QTsh7d5E29  172.16.170.146      59002   \n",
      "1  2022-05-20T02:40:13.601309Z  CYGs593zieSkgnbsx3  172.16.170.146      45586   \n",
      "2  2022-05-18T05:00:00.660347Z   CF7xbF4of3YpVoUv9  172.16.170.146      46067   \n",
      "3  2022-05-19T01:00:01.745576Z  Cuf3k34XI3UhglQszl  172.16.170.146      60267   \n",
      "4  2022-05-20T02:42:56.839481Z  Cz37nP1VfUuM3p9yN7   91.134.185.91        514   \n",
      "\n",
      "        id.resp_h  id.resp_p proto  trans_id                          query  \\\n",
      "0   100.100.2.138         53   udp     37557     238.7.248.197.in-addr.arpa   \n",
      "1   100.100.2.136         53   udp     44674  ap-northeast-1.axt.aliyun.com   \n",
      "2   100.100.2.138         53   udp     29963                            NaN   \n",
      "3   100.100.2.138         53   udp     57555                            NaN   \n",
      "4  172.16.170.146         53   udp     13551                   version.bind   \n",
      "\n",
      "   rcode  ...     RD     RA  Z                                  answers  \\\n",
      "0    0.0  ...  False   True  0  [197-248-7-238.safaricombusiness.co.ke]   \n",
      "1    0.0  ...  False   True  0                           [100.100.0.76]   \n",
      "2    3.0  ...  False  False  0                                      NaN   \n",
      "3    3.0  ...  False  False  0                                      NaN   \n",
      "4    NaN  ...   True  False  0                                      NaN   \n",
      "\n",
      "       TTLs  rejected qclass qclass_name  qtype  qtype_name  \n",
      "0  [3600.0]     False    NaN         NaN    NaN         NaN  \n",
      "1   [300.0]     False    NaN         NaN    NaN         NaN  \n",
      "2       NaN     False    NaN         NaN    NaN         NaN  \n",
      "3       NaN     False    NaN         NaN    NaN         NaN  \n",
      "4       NaN     False    3.0     C_CHAOS   16.0         TXT  \n",
      "\n",
      "[5 rows x 23 columns]\n"
     ]
    }
   ],
   "source": [
    "# 将获得的字典列表转换为DataFrame\n",
    "df = pd.DataFrame(temp_list)\n",
    "\n",
    "print('Read in {:d} Rows...'.format(len(df)))\n",
    "print(df.head())"
   ]
  },
  {
   "cell_type": "code",
   "execution_count": 6,
   "metadata": {},
   "outputs": [],
   "source": [
    "# 挑选出感兴趣的字段\n",
    "features = ['id.resp_p', 'rcode_name', 'id.orig_p', 'trans_id']"
   ]
  },
  {
   "cell_type": "code",
   "execution_count": 7,
   "metadata": {},
   "outputs": [
    {
     "data": {
      "text/html": [
       "<div>\n",
       "<style scoped>\n",
       "    .dataframe tbody tr th:only-of-type {\n",
       "        vertical-align: middle;\n",
       "    }\n",
       "\n",
       "    .dataframe tbody tr th {\n",
       "        vertical-align: top;\n",
       "    }\n",
       "\n",
       "    .dataframe thead th {\n",
       "        text-align: right;\n",
       "    }\n",
       "</style>\n",
       "<table border=\"1\" class=\"dataframe\">\n",
       "  <thead>\n",
       "    <tr style=\"text-align: right;\">\n",
       "      <th></th>\n",
       "      <th>id.resp_p</th>\n",
       "      <th>rcode_name</th>\n",
       "      <th>id.orig_p</th>\n",
       "      <th>trans_id</th>\n",
       "    </tr>\n",
       "  </thead>\n",
       "  <tbody>\n",
       "    <tr>\n",
       "      <th>0</th>\n",
       "      <td>53</td>\n",
       "      <td>NOERROR</td>\n",
       "      <td>59002</td>\n",
       "      <td>37557</td>\n",
       "    </tr>\n",
       "    <tr>\n",
       "      <th>1</th>\n",
       "      <td>53</td>\n",
       "      <td>NOERROR</td>\n",
       "      <td>45586</td>\n",
       "      <td>44674</td>\n",
       "    </tr>\n",
       "    <tr>\n",
       "      <th>2</th>\n",
       "      <td>53</td>\n",
       "      <td>NXDOMAIN</td>\n",
       "      <td>46067</td>\n",
       "      <td>29963</td>\n",
       "    </tr>\n",
       "    <tr>\n",
       "      <th>3</th>\n",
       "      <td>53</td>\n",
       "      <td>NXDOMAIN</td>\n",
       "      <td>60267</td>\n",
       "      <td>57555</td>\n",
       "    </tr>\n",
       "    <tr>\n",
       "      <th>4</th>\n",
       "      <td>53</td>\n",
       "      <td>NaN</td>\n",
       "      <td>514</td>\n",
       "      <td>13551</td>\n",
       "    </tr>\n",
       "  </tbody>\n",
       "</table>\n",
       "</div>"
      ],
      "text/plain": [
       "   id.resp_p rcode_name  id.orig_p  trans_id\n",
       "0         53    NOERROR      59002     37557\n",
       "1         53    NOERROR      45586     44674\n",
       "2         53   NXDOMAIN      46067     29963\n",
       "3         53   NXDOMAIN      60267     57555\n",
       "4         53        NaN        514     13551"
      ]
     },
     "execution_count": 7,
     "metadata": {},
     "output_type": "execute_result"
    }
   ],
   "source": [
    "# 显示具有混合特征类型的数据框\n",
    "df[features].head()"
   ]
  },
  {
   "cell_type": "code",
   "execution_count": 8,
   "metadata": {},
   "outputs": [
    {
     "name": "stdout",
     "output_type": "stream",
     "text": [
      "zat: 0.4.4\n",
      "Pandas: 1.0.4\n",
      "Numpy: 1.18.5\n",
      "Scikit Learn Version: 0.22.2.post1\n"
     ]
    }
   ],
   "source": [
    "import zat\n",
    "from zat.log_to_dataframe import LogToDataFrame\n",
    "from zat.dataframe_to_matrix import DataFrameToMatrix\n",
    "print('zat: {:s}'.format(zat.__version__))\n",
    "import pandas as pd\n",
    "print('Pandas: {:s}'.format(pd.__version__))\n",
    "import numpy as np\n",
    "print('Numpy: {:s}'.format(np.__version__))\n",
    "import sklearn\n",
    "from sklearn.ensemble import IsolationForest\n",
    "from sklearn.decomposition import PCA\n",
    "from sklearn.cluster import KMeans\n",
    "print('Scikit Learn Version:', sklearn.__version__)"
   ]
  },
  {
   "cell_type": "code",
   "execution_count": 9,
   "metadata": {},
   "outputs": [
    {
     "name": "stdout",
     "output_type": "stream",
     "text": [
      "Changing column rcode_name to category...\n",
      "Normalizing column id.resp_p...\n",
      "Normalizing column id.orig_p...\n",
      "Normalizing column trans_id...\n",
      "(120, 6)\n"
     ]
    },
    {
     "data": {
      "text/plain": [
       "array([[0.       , 0.9785675, 0.5777822, 1.       , 0.       , 0.       ]],\n",
       "      dtype=float32)"
      ]
     },
     "execution_count": 9,
     "metadata": {},
     "output_type": "execute_result"
    }
   ],
   "source": [
    "# 使用zat的DataframeToMatrix类将spark Dataframe转换成np array(即将特征分类转换成数值形式)\n",
    "# 注意，此处的fit_transform为DataFrameToMatrix中的方法（但是作用和scikit-learn中的同名方法类似）\n",
    "# 都是对部分数据先拟合fit，根据转换目的找到一些数据中的指标（均值、方差、最大值最小值等），然后进行转换transform，从而实现数据的标准化\n",
    "to_matrix = DataFrameToMatrix()\n",
    "zeek_matrix = to_matrix.fit_transform(df[features], normalize=True)\n",
    "print(zeek_matrix.shape)\n",
    "zeek_matrix[:1]"
   ]
  },
  {
   "cell_type": "code",
   "execution_count": 10,
   "metadata": {},
   "outputs": [
    {
     "name": "stderr",
     "output_type": "stream",
     "text": [
      "/opt/conda/lib/python3.7/site-packages/sklearn/ensemble/_iforest.py:248: FutureWarning: 'behaviour' is deprecated in 0.22 and will be removed in 0.24. You should not pass or set this parameter.\n",
      "  FutureWarning\n"
     ]
    },
    {
     "data": {
      "text/plain": [
       "IsolationForest(behaviour='new', bootstrap=False, contamination=0.25,\n",
       "                max_features=1.0, max_samples='auto', n_estimators=100,\n",
       "                n_jobs=None, random_state=None, verbose=0, warm_start=False)"
      ]
     },
     "execution_count": 10,
     "metadata": {},
     "output_type": "execute_result"
    }
   ],
   "source": [
    "# 使用隔离森林模型训练(无监督)/拟合和预测异常实例\n",
    "\n",
    "# contamination为用户设置的异常样本的比例（没有深究算法，不太了解其设置的依据）\n",
    "odd_clf = IsolationForest(behaviour='new', contamination=0.25)\n",
    "odd_clf.fit(zeek_matrix)"
   ]
  },
  {
   "cell_type": "code",
   "execution_count": 11,
   "metadata": {},
   "outputs": [
    {
     "name": "stdout",
     "output_type": "stream",
     "text": [
      "(30, 4)\n"
     ]
    },
    {
     "data": {
      "text/html": [
       "<div>\n",
       "<style scoped>\n",
       "    .dataframe tbody tr th:only-of-type {\n",
       "        vertical-align: middle;\n",
       "    }\n",
       "\n",
       "    .dataframe tbody tr th {\n",
       "        vertical-align: top;\n",
       "    }\n",
       "\n",
       "    .dataframe thead th {\n",
       "        text-align: right;\n",
       "    }\n",
       "</style>\n",
       "<table border=\"1\" class=\"dataframe\">\n",
       "  <thead>\n",
       "    <tr style=\"text-align: right;\">\n",
       "      <th></th>\n",
       "      <th>id.resp_p</th>\n",
       "      <th>rcode_name</th>\n",
       "      <th>id.orig_p</th>\n",
       "      <th>trans_id</th>\n",
       "    </tr>\n",
       "  </thead>\n",
       "  <tbody>\n",
       "    <tr>\n",
       "      <th>0</th>\n",
       "      <td>53</td>\n",
       "      <td>NOERROR</td>\n",
       "      <td>59002</td>\n",
       "      <td>37557</td>\n",
       "    </tr>\n",
       "    <tr>\n",
       "      <th>3</th>\n",
       "      <td>53</td>\n",
       "      <td>NXDOMAIN</td>\n",
       "      <td>60267</td>\n",
       "      <td>57555</td>\n",
       "    </tr>\n",
       "    <tr>\n",
       "      <th>4</th>\n",
       "      <td>53</td>\n",
       "      <td>NaN</td>\n",
       "      <td>514</td>\n",
       "      <td>13551</td>\n",
       "    </tr>\n",
       "    <tr>\n",
       "      <th>13</th>\n",
       "      <td>137</td>\n",
       "      <td>NaN</td>\n",
       "      <td>37618</td>\n",
       "      <td>58840</td>\n",
       "    </tr>\n",
       "    <tr>\n",
       "      <th>26</th>\n",
       "      <td>53</td>\n",
       "      <td>NXDOMAIN</td>\n",
       "      <td>33089</td>\n",
       "      <td>32127</td>\n",
       "    </tr>\n",
       "  </tbody>\n",
       "</table>\n",
       "</div>"
      ],
      "text/plain": [
       "    id.resp_p rcode_name  id.orig_p  trans_id\n",
       "0          53    NOERROR      59002     37557\n",
       "3          53   NXDOMAIN      60267     57555\n",
       "4          53        NaN        514     13551\n",
       "13        137        NaN      37618     58840\n",
       "26         53   NXDOMAIN      33089     32127"
      ]
     },
     "execution_count": 11,
     "metadata": {},
     "output_type": "execute_result"
    }
   ],
   "source": [
    "# 调用训练好的树进行异常检测\n",
    "# odd_clf.predict的返回值为：+1 表示正常样本， -1表示异常样本\n",
    "odd_df = df[features][odd_clf.predict(zeek_matrix) == -1]\n",
    "print(odd_df.shape)\n",
    "odd_df.head()"
   ]
  },
  {
   "cell_type": "code",
   "execution_count": 12,
   "metadata": {},
   "outputs": [
    {
     "name": "stdout",
     "output_type": "stream",
     "text": [
      "Changing column rcode_name to category...\n",
      "Normalizing column id.resp_p...\n",
      "Normalizing column id.orig_p...\n",
      "Normalizing column trans_id...\n"
     ]
    }
   ],
   "source": [
    "# 使用KMeans 和 PCA 算法进一步分析异常数据帧\n",
    "# 通过zat把异常数据df转换为np array\n",
    "odd_matrix = to_matrix.fit_transform(odd_df)"
   ]
  },
  {
   "cell_type": "code",
   "execution_count": 36,
   "metadata": {},
   "outputs": [
    {
     "data": {
      "text/html": [
       "<div>\n",
       "<style scoped>\n",
       "    .dataframe tbody tr th:only-of-type {\n",
       "        vertical-align: middle;\n",
       "    }\n",
       "\n",
       "    .dataframe tbody tr th {\n",
       "        vertical-align: top;\n",
       "    }\n",
       "\n",
       "    .dataframe thead th {\n",
       "        text-align: right;\n",
       "    }\n",
       "</style>\n",
       "<table border=\"1\" class=\"dataframe\">\n",
       "  <thead>\n",
       "    <tr style=\"text-align: right;\">\n",
       "      <th></th>\n",
       "      <th>id.resp_p</th>\n",
       "      <th>rcode_name</th>\n",
       "      <th>id.orig_p</th>\n",
       "      <th>trans_id</th>\n",
       "      <th>x</th>\n",
       "      <th>y</th>\n",
       "      <th>cluster</th>\n",
       "    </tr>\n",
       "  </thead>\n",
       "  <tbody>\n",
       "    <tr>\n",
       "      <th>0</th>\n",
       "      <td>53</td>\n",
       "      <td>NOERROR</td>\n",
       "      <td>59002</td>\n",
       "      <td>37557</td>\n",
       "      <td>-0.645889</td>\n",
       "      <td>-0.302540</td>\n",
       "      <td>1</td>\n",
       "    </tr>\n",
       "    <tr>\n",
       "      <th>3</th>\n",
       "      <td>53</td>\n",
       "      <td>NXDOMAIN</td>\n",
       "      <td>60267</td>\n",
       "      <td>57555</td>\n",
       "      <td>0.798019</td>\n",
       "      <td>-0.372417</td>\n",
       "      <td>0</td>\n",
       "    </tr>\n",
       "    <tr>\n",
       "      <th>4</th>\n",
       "      <td>53</td>\n",
       "      <td>NaN</td>\n",
       "      <td>514</td>\n",
       "      <td>13551</td>\n",
       "      <td>0.028017</td>\n",
       "      <td>1.067372</td>\n",
       "      <td>2</td>\n",
       "    </tr>\n",
       "    <tr>\n",
       "      <th>13</th>\n",
       "      <td>137</td>\n",
       "      <td>NaN</td>\n",
       "      <td>37618</td>\n",
       "      <td>58840</td>\n",
       "      <td>0.133320</td>\n",
       "      <td>0.752853</td>\n",
       "      <td>2</td>\n",
       "    </tr>\n",
       "    <tr>\n",
       "      <th>26</th>\n",
       "      <td>53</td>\n",
       "      <td>NXDOMAIN</td>\n",
       "      <td>33089</td>\n",
       "      <td>32127</td>\n",
       "      <td>0.738760</td>\n",
       "      <td>-0.184166</td>\n",
       "      <td>0</td>\n",
       "    </tr>\n",
       "  </tbody>\n",
       "</table>\n",
       "</div>"
      ],
      "text/plain": [
       "    id.resp_p rcode_name  id.orig_p  trans_id         x         y  cluster\n",
       "0          53    NOERROR      59002     37557 -0.645889 -0.302540        1\n",
       "3          53   NXDOMAIN      60267     57555  0.798019 -0.372417        0\n",
       "4          53        NaN        514     13551  0.028017  1.067372        2\n",
       "13        137        NaN      37618     58840  0.133320  0.752853        2\n",
       "26         53   NXDOMAIN      33089     32127  0.738760 -0.184166        0"
      ]
     },
     "execution_count": 36,
     "metadata": {},
     "output_type": "execute_result"
    }
   ],
   "source": [
    "# 设置簇个数为3对异常数据进行聚类\n",
    "kmeans = KMeans(n_clusters=3).fit_predict(odd_matrix) \n",
    "# 数据降维，以便可视化\n",
    "pca = PCA(n_components=3).fit_transform(odd_matrix)\n",
    "\n",
    "# 结果添加至dataframe\n",
    "odd_df['x'] = pca[:, 0] # PCA X Column\n",
    "odd_df['y'] = pca[:, 1] # PCA Y Column\n",
    "odd_df['cluster'] = kmeans\n",
    "# odd_df.head()\n",
    "# odd_df.set_index('cluster') ## 将类簇设置为索引\n",
    "odd_df.head()"
   ]
  },
  {
   "cell_type": "code",
   "execution_count": 14,
   "metadata": {},
   "outputs": [
    {
     "name": "stdout",
     "output_type": "stream",
     "text": [
      "{'acknowledged': True, 'shards_acknowledged': True, 'index': 'cluster'}\n"
     ]
    }
   ],
   "source": [
    "# 创建存放聚类结果的es索引\n",
    "try:\n",
    "    result = es.indices.create(index='cluster')\n",
    "    print(result)\n",
    "except Exception as err:\n",
    "    print(err)"
   ]
  },
  {
   "cell_type": "code",
   "execution_count": 37,
   "metadata": {},
   "outputs": [
    {
     "name": "stdout",
     "output_type": "stream",
     "text": [
      "'{\"0\":{\"id.resp_p\":53,\"rcode_name\":\"NOERROR\",\"id.orig_p\":59002,\"trans_id\":37557,\"x\":-0.6458892226,\"y\":-0.3025395274,\"cluster\":1},\"3\":{\"id.resp_p\":53,\"rcode_name\":\"NXDOMAIN\",\"id.orig_p\":60267,\"trans_id\":57555,\"x\":0.7980194092,\"y\":-0.3724173009,\"cluster\":0},\"4\":{\"id.resp_p\":53,\"rcode_name\":null,\"id.orig_p\":514,\"trans_id\":13551,\"x\":0.0280167218,\"y\":1.0673719645,\"cluster\":2},\"13\":{\"id.resp_p\":137,\"rcode_name\":null,\"id.orig_p\":37618,\"trans_id\":58840,\"x\":0.1333204657,\"y\":0.7528526783,\"cluster\":2},\"26\":{\"id.resp_p\":53,\"rcode_name\":\"NXDOMAIN\",\"id.orig_p\":33089,\"trans_id\":32127,\"x\":0.7387603521,\"y\":-0.1841662079,\"cluster\":0},\"30\":{\"id.resp_p\":53,\"rcode_name\":\"NXDOMAIN\",\"id.orig_p\":37669,\"trans_id\":65002,\"x\":0.8147243857,\"y\":-0.3779391348,\"cluster\":0},\"40\":{\"id.resp_p\":53,\"rcode_name\":\"NXDOMAIN\",\"id.orig_p\":60154,\"trans_id\":33954,\"x\":0.7435522676,\"y\":-0.2384622097,\"cluster\":0},\"41\":{\"id.resp_p\":53,\"rcode_name\":\"NXDOMAIN\",\"id.orig_p\":58805,\"trans_id\":62612,\"x\":0.8096585274,\"y\":-0.3987070918,\"cluster\":0},\"43\":{\"id.resp_p\":53,\"rcode_name\":\"NXDOMAIN\",\"id.orig_p\":34851,\"trans_id\":55936,\"x\":0.7937425375,\"y\":-0.3219774961,\"cluster\":0},\"47\":{\"id.resp_p\":53,\"rcode_name\":\"NXDOMAIN\",\"id.orig_p\":35192,\"trans_id\":1832,\"x\":0.6688923836,\"y\":-0.015866939,\"cluster\":0},\"51\":{\"id.resp_p\":53,\"rcode_name\":\"NXDOMAIN\",\"id.orig_p\":53078,\"trans_id\":943,\"x\":0.6672211289,\"y\":-0.039866209,\"cluster\":0},\"58\":{\"id.resp_p\":53,\"rcode_name\":\"NOERROR\",\"id.orig_p\":60283,\"trans_id\":31699,\"x\":-0.6593806148,\"y\":-0.2714159191,\"cluster\":1},\"59\":{\"id.resp_p\":53,\"rcode_name\":\"NOERROR\",\"id.orig_p\":58624,\"trans_id\":48543,\"x\":-0.6205445528,\"y\":-0.364195168,\"cluster\":1},\"62\":{\"id.resp_p\":53,\"rcode_name\":null,\"id.orig_p\":45052,\"trans_id\":17767,\"x\":0.0386934131,\"y\":0.9711673856,\"cluster\":2},\"65\":{\"id.resp_p\":53,\"rcode_name\":null,\"id.orig_p\":56276,\"trans_id\":13551,\"x\":0.0292027649,\"y\":0.9768417478,\"cluster\":2},\"67\":{\"id.resp_p\":53,\"rcode_name\":\"NXDOMAIN\",\"id.orig_p\":33342,\"trans_id\":11853,\"x\":0.6919787526,\"y\":-0.0696629807,\"cluster\":0},\"68\":{\"id.resp_p\":53,\"rcode_name\":\"NOERROR\",\"id.orig_p\":50032,\"trans_id\":62478,\"x\":-0.5885691643,\"y\":-0.4292302728,\"cluster\":1},\"78\":{\"id.resp_p\":53,\"rcode_name\":\"NXDOMAIN\",\"id.orig_p\":57733,\"trans_id\":61866,\"x\":0.8079141974,\"y\":-0.3927383125,\"cluster\":0},\"79\":{\"id.resp_p\":53,\"rcode_name\":\"NOERROR\",\"id.orig_p\":35765,\"trans_id\":58721,\"x\":-0.5975426435,\"y\":-0.384772718,\"cluster\":1},\"85\":{\"id.resp_p\":53,\"rcode_name\":\"NOERROR\",\"id.orig_p\":53176,\"trans_id\":3462,\"x\":-0.7246952653,\"y\":-0.0998289138,\"cluster\":1},\"88\":{\"id.resp_p\":53,\"rcode_name\":\"NOERROR\",\"id.orig_p\":41298,\"trans_id\":5003,\"x\":-0.7213917375,\"y\":-0.089279227,\"cluster\":1},\"90\":{\"id.resp_p\":53,\"rcode_name\":\"NXDOMAIN\",\"id.orig_p\":45788,\"trans_id\":64489,\"x\":0.8137132525,\"y\":-0.3882128,\"cluster\":0},\"94\":{\"id.resp_p\":53,\"rcode_name\":\"NOERROR\",\"id.orig_p\":34001,\"trans_id\":6014,\"x\":-0.7192137837,\"y\":-0.0831628963,\"cluster\":1},\"96\":{\"id.resp_p\":53,\"rcode_name\":\"NOERROR\",\"id.orig_p\":34869,\"trans_id\":17258,\"x\":-0.6932471991,\"y\":-0.148303628,\"cluster\":1},\"97\":{\"id.resp_p\":5353,\"rcode_name\":null,\"id.orig_p\":52738,\"trans_id\":0,\"x\":-0.0021473861,\"y\":1.2120784521,\"cluster\":2},\"99\":{\"id.resp_p\":53,\"rcode_name\":null,\"id.orig_p\":51447,\"trans_id\":13551,\"x\":0.029099904,\"y\":0.9846816659,\"cluster\":2},\"101\":{\"id.resp_p\":53,\"rcode_name\":\"NOERROR\",\"id.orig_p\":52690,\"trans_id\":4668,\"x\":-0.7219225168,\"y\":-0.105875507,\"cluster\":1},\"104\":{\"id.resp_p\":53,\"rcode_name\":\"NOERROR\",\"id.orig_p\":49318,\"trans_id\":60052,\"x\":-0.5941827893,\"y\":-0.4143203497,\"cluster\":1},\"107\":{\"id.resp_p\":53,\"rcode_name\":\"NOERROR\",\"id.orig_p\":37494,\"trans_id\":61641,\"x\":-0.5907673836,\"y\":-0.4041304886,\"cluster\":1},\"114\":{\"id.resp_p\":53,\"rcode_name\":\"NOERROR\",\"id.orig_p\":36498,\"trans_id\":2610,\"x\":-0.7270162702,\"y\":-0.0679227412,\"cluster\":1}}'\n"
     ]
    }
   ],
   "source": [
    "# 将dataframe转为json\n",
    "odd_json = odd_df.to_json(orient ='index')#orient ='records'；orient ='index'\n",
    "pprint(odd_json)"
   ]
  },
  {
   "cell_type": "code",
   "execution_count": 29,
   "metadata": {},
   "outputs": [],
   "source": [
    "# 把json格式的聚类结果上载到es\n",
    "try:\n",
    "    es.index(index='cluster2', document=odd_json)\n",
    "except Exception as err:\n",
    "    print(err)\n"
   ]
  },
  {
   "cell_type": "code",
   "execution_count": 73,
   "metadata": {},
   "outputs": [],
   "source": [
    "# Plotting defaults\n",
    "%matplotlib inline\n",
    "import matplotlib.pyplot as plt\n",
    "plt.rcParams['font.size'] = 14.0\n",
    "plt.rcParams['figure.figsize'] = 15.0, 6.0\n",
    "\n",
    "# 用于绘制散点图/蜂群图\n",
    "def jitter(arr):\n",
    "    stdev = .02*(max(arr)-min(arr))\n",
    "    return arr + np.random.randn(len(arr)) * stdev"
   ]
  },
  {
   "cell_type": "code",
   "execution_count": 74,
   "metadata": {},
   "outputs": [
    {
     "data": {
      "image/png": "[encoded data removed]",
      "text/plain": [
       "<Figure size 1080x432 with 1 Axes>"
      ]
     },
     "metadata": {
      "needs_background": "light"
     },
     "output_type": "display_data"
    }
   ],
   "source": [
    "# 将重合数据点进行抖动处理以便观察\n",
    "odd_df['jx'] = jitter(odd_df['x'])\n",
    "odd_df['jy'] = jitter(odd_df['y'])\n",
    "\n",
    "# 使用数据进行聚类\n",
    "cluster_groups = odd_df.groupby('cluster')\n",
    "\n",
    "# 绘制机器学习（聚类）结果\n",
    "colors = {0:'green', 1:'blue', 2:'red', 3:'orange', 4:'purple', 5:'brown'}\n",
    "fig, ax = plt.subplots()\n",
    "for key, group in cluster_groups:\n",
    "    group.plot(ax=ax, kind='scatter', x='jx', y='jy', alpha=0.5, s=250,\n",
    "               label='Cluster: {:d}'.format(key), color=colors[key])"
   ]
  },
  {
   "cell_type": "code",
   "execution_count": 75,
   "metadata": {},
   "outputs": [
    {
     "name": "stdout",
     "output_type": "stream",
     "text": [
      "\n",
      "Cluster 0: 15 observations\n",
      "    id.resp_p rcode_name  id.orig_p  trans_id\n",
      "1          53   NXDOMAIN      56791     11833\n",
      "7          53   NXDOMAIN      34433     32479\n",
      "8          53   NXDOMAIN      33089     32127\n",
      "13         53   NXDOMAIN      58805     62612\n",
      "15         53   NXDOMAIN      35192      1832\n",
      "\n",
      "Cluster 1: 11 observations\n",
      "    id.resp_p rcode_name  id.orig_p  trans_id\n",
      "22         53    NOERROR      50032     62478\n",
      "35         53    NOERROR      37494     61641\n",
      "37         53    NOERROR      32791     48207\n",
      "45         53    NOERROR      60544      3017\n",
      "48         53    NOERROR      33717     37883\n",
      "\n",
      "Cluster 2: 4 observations\n",
      "    id.resp_p rcode_name  id.orig_p  trans_id\n",
      "20         53        NaN      45052     17767\n",
      "21         53        NaN      56276     13551\n",
      "43         53        NaN      56824     13551\n",
      "46         53        NaN      47387     64206\n"
     ]
    }
   ],
   "source": [
    "# 打印每个簇内的数据\n",
    "pd.set_option('display.width', 1000)\n",
    "for key, group in cluster_groups:\n",
    "    print('\\nCluster {:d}: {:d} observations'.format(key, len(group)))\n",
    "    print(group[features].head())"
   ]
  },
  {
   "cell_type": "markdown",
   "metadata": {},
   "source": [
    "#### <div style=\"float: right; margin: 10px 10px 10px 10px\"></div>\n",
    "## 各个簇表示的异常的分类\n",
    "- Cluster 0: 代码相应描述为NXDOMAIN的\n",
    "- Cluster 1: 代码相应描述为NOERROR的\n",
    "- Cluster 2: 未知代码相应描述（异常值）\n"
   ]
  },
  {
   "cell_type": "code",
   "execution_count": null,
   "metadata": {},
   "outputs": [],
   "source": []
  }
 ],
 "metadata": {
  "kernelspec": {
   "display_name": "Python 3",
   "language": "python",
   "name": "python3"
  },
  "language_info": {
   "codemirror_mode": {
    "name": "ipython",
    "version": 3
   },
   "file_extension": ".py",
   "mimetype": "text/x-python",
   "name": "python",
   "nbconvert_exporter": "python",
   "pygments_lexer": "ipython3",
   "version": "3.7.6"
  }
 },
 "nbformat": 4,
 "nbformat_minor": 4
}
